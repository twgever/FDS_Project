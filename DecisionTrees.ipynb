{
 "cells": [
  {
   "cell_type": "code",
   "execution_count": 1,
   "metadata": {},
   "outputs": [],
   "source": [
    "import pandas as pd\n",
    "import sklearn.metrics as metrics\n",
    "import matplotlib.pyplot as plt\n",
    "import numpy as np\n",
    "import seaborn as sb\n",
    "from sklearn import tree as sktree"
   ]
  },
  {
   "cell_type": "code",
   "execution_count": 2,
   "metadata": {},
   "outputs": [],
   "source": [
    "X_train = pd.read_csv(\"sets/X_train.csv\")\n",
    "X_test = pd.read_csv(\"sets/X_test.csv\")\n",
    "y_train = pd.read_csv(\"sets/y_train.csv\")\n",
    "y_test = pd.read_csv(\"sets/y_test.csv\")"
   ]
  },
  {
   "cell_type": "markdown",
   "metadata": {},
   "source": [
    "### Decision trees"
   ]
  },
  {
   "cell_type": "markdown",
   "metadata": {},
   "source": [
    "Decision trees are a simple ML model that we can use for the regression task of predicting the score of some student in an assessment.\n",
    "This model should be able to deal with the non-linear relationship between the features and the target, thus achieving better results compared to linear regression. However, it might be prone to overfitting."
   ]
  },
  {
   "cell_type": "code",
   "execution_count": 3,
   "metadata": {},
   "outputs": [
    {
     "data": {
      "text/html": [
       "<style>#sk-container-id-1 {color: black;}#sk-container-id-1 pre{padding: 0;}#sk-container-id-1 div.sk-toggleable {background-color: white;}#sk-container-id-1 label.sk-toggleable__label {cursor: pointer;display: block;width: 100%;margin-bottom: 0;padding: 0.3em;box-sizing: border-box;text-align: center;}#sk-container-id-1 label.sk-toggleable__label-arrow:before {content: \"▸\";float: left;margin-right: 0.25em;color: #696969;}#sk-container-id-1 label.sk-toggleable__label-arrow:hover:before {color: black;}#sk-container-id-1 div.sk-estimator:hover label.sk-toggleable__label-arrow:before {color: black;}#sk-container-id-1 div.sk-toggleable__content {max-height: 0;max-width: 0;overflow: hidden;text-align: left;background-color: #f0f8ff;}#sk-container-id-1 div.sk-toggleable__content pre {margin: 0.2em;color: black;border-radius: 0.25em;background-color: #f0f8ff;}#sk-container-id-1 input.sk-toggleable__control:checked~div.sk-toggleable__content {max-height: 200px;max-width: 100%;overflow: auto;}#sk-container-id-1 input.sk-toggleable__control:checked~label.sk-toggleable__label-arrow:before {content: \"▾\";}#sk-container-id-1 div.sk-estimator input.sk-toggleable__control:checked~label.sk-toggleable__label {background-color: #d4ebff;}#sk-container-id-1 div.sk-label input.sk-toggleable__control:checked~label.sk-toggleable__label {background-color: #d4ebff;}#sk-container-id-1 input.sk-hidden--visually {border: 0;clip: rect(1px 1px 1px 1px);clip: rect(1px, 1px, 1px, 1px);height: 1px;margin: -1px;overflow: hidden;padding: 0;position: absolute;width: 1px;}#sk-container-id-1 div.sk-estimator {font-family: monospace;background-color: #f0f8ff;border: 1px dotted black;border-radius: 0.25em;box-sizing: border-box;margin-bottom: 0.5em;}#sk-container-id-1 div.sk-estimator:hover {background-color: #d4ebff;}#sk-container-id-1 div.sk-parallel-item::after {content: \"\";width: 100%;border-bottom: 1px solid gray;flex-grow: 1;}#sk-container-id-1 div.sk-label:hover label.sk-toggleable__label {background-color: #d4ebff;}#sk-container-id-1 div.sk-serial::before {content: \"\";position: absolute;border-left: 1px solid gray;box-sizing: border-box;top: 0;bottom: 0;left: 50%;z-index: 0;}#sk-container-id-1 div.sk-serial {display: flex;flex-direction: column;align-items: center;background-color: white;padding-right: 0.2em;padding-left: 0.2em;position: relative;}#sk-container-id-1 div.sk-item {position: relative;z-index: 1;}#sk-container-id-1 div.sk-parallel {display: flex;align-items: stretch;justify-content: center;background-color: white;position: relative;}#sk-container-id-1 div.sk-item::before, #sk-container-id-1 div.sk-parallel-item::before {content: \"\";position: absolute;border-left: 1px solid gray;box-sizing: border-box;top: 0;bottom: 0;left: 50%;z-index: -1;}#sk-container-id-1 div.sk-parallel-item {display: flex;flex-direction: column;z-index: 1;position: relative;background-color: white;}#sk-container-id-1 div.sk-parallel-item:first-child::after {align-self: flex-end;width: 50%;}#sk-container-id-1 div.sk-parallel-item:last-child::after {align-self: flex-start;width: 50%;}#sk-container-id-1 div.sk-parallel-item:only-child::after {width: 0;}#sk-container-id-1 div.sk-dashed-wrapped {border: 1px dashed gray;margin: 0 0.4em 0.5em 0.4em;box-sizing: border-box;padding-bottom: 0.4em;background-color: white;}#sk-container-id-1 div.sk-label label {font-family: monospace;font-weight: bold;display: inline-block;line-height: 1.2em;}#sk-container-id-1 div.sk-label-container {text-align: center;}#sk-container-id-1 div.sk-container {/* jupyter's `normalize.less` sets `[hidden] { display: none; }` but bootstrap.min.css set `[hidden] { display: none !important; }` so we also need the `!important` here to be able to override the default hidden behavior on the sphinx rendered scikit-learn.org. See: https://github.com/scikit-learn/scikit-learn/issues/21755 */display: inline-block !important;position: relative;}#sk-container-id-1 div.sk-text-repr-fallback {display: none;}</style><div id=\"sk-container-id-1\" class=\"sk-top-container\"><div class=\"sk-text-repr-fallback\"><pre>DecisionTreeRegressor(min_samples_leaf=15, min_samples_split=10)</pre><b>In a Jupyter environment, please rerun this cell to show the HTML representation or trust the notebook. <br />On GitHub, the HTML representation is unable to render, please try loading this page with nbviewer.org.</b></div><div class=\"sk-container\" hidden><div class=\"sk-item\"><div class=\"sk-estimator sk-toggleable\"><input class=\"sk-toggleable__control sk-hidden--visually\" id=\"sk-estimator-id-1\" type=\"checkbox\" checked><label for=\"sk-estimator-id-1\" class=\"sk-toggleable__label sk-toggleable__label-arrow\">DecisionTreeRegressor</label><div class=\"sk-toggleable__content\"><pre>DecisionTreeRegressor(min_samples_leaf=15, min_samples_split=10)</pre></div></div></div></div></div>"
      ],
      "text/plain": [
       "DecisionTreeRegressor(min_samples_leaf=15, min_samples_split=10)"
      ]
     },
     "execution_count": 3,
     "metadata": {},
     "output_type": "execute_result"
    }
   ],
   "source": [
    "#using the scikit-learn implementation of the model\n",
    "from sklearn.tree import DecisionTreeRegressor\n",
    "\n",
    "min_samples_leaf = 15 #minimum number of samples required in a leaf -> may smooth the model\n",
    "min_samples_split = 10 #minimum number of samples to split an internal node\n",
    "\n",
    "decTree = DecisionTreeRegressor(min_samples_leaf=min_samples_leaf, min_samples_split=min_samples_split)\n",
    "\n",
    "decTree.fit(X_train, y_train)"
   ]
  },
  {
   "cell_type": "markdown",
   "metadata": {},
   "source": [
    "We evaluate the model by considering the RMSE error and the R2 score."
   ]
  },
  {
   "cell_type": "code",
   "execution_count": 4,
   "metadata": {},
   "outputs": [],
   "source": [
    "y_pred = decTree.predict(X_test)\n",
    "y_pred_train = decTree.predict(X_train)\n",
    "\n",
    "RMSE = metrics.mean_squared_error(y_test, y_pred, squared=False)\n",
    "R2 = metrics.r2_score(y_test, y_pred)\n",
    "\n",
    "RMSE_train = metrics.mean_squared_error(y_train, y_pred_train, squared=False)\n",
    "R2_train = metrics.r2_score(y_train, y_pred_train)"
   ]
  },
  {
   "cell_type": "code",
   "execution_count": 5,
   "metadata": {},
   "outputs": [
    {
     "name": "stdout",
     "output_type": "stream",
     "text": [
      "RMSE: 16.648806986120043\n",
      "R2: 0.20750021841448718\n",
      "RMSE for training: 13.255003869962891\n",
      "R2 for training: 0.5021829510118225\n"
     ]
    }
   ],
   "source": [
    "print(\"RMSE: \"+str(RMSE))\n",
    "print(\"R2: \"+str(R2))\n",
    "\n",
    "print(\"RMSE for training: \"+str(RMSE_train))\n",
    "print(\"R2 for training: \"+str(R2_train))"
   ]
  },
  {
   "cell_type": "markdown",
   "metadata": {},
   "source": [
    "We can see that the model loses some accuracy on the test set compared to the training set, because it tends to overfit a little. However, it reaches better performances than linear models, because of the non-linearity of the data distribution."
   ]
  },
  {
   "cell_type": "markdown",
   "metadata": {},
   "source": [
    "Let's see if the performance can get any better by experimenting with different values for *min_sample_leaf* and *min_sample_split*."
   ]
  },
  {
   "cell_type": "code",
   "execution_count": 26,
   "metadata": {},
   "outputs": [
    {
     "name": "stdout",
     "output_type": "stream",
     "text": [
      "Trying with min_sample_leaf = 5, min_sample_split = 5\n",
      "Trying with min_sample_leaf = 5, min_sample_split = 10\n",
      "Trying with min_sample_leaf = 5, min_sample_split = 15\n",
      "Trying with min_sample_leaf = 5, min_sample_split = 20\n",
      "Trying with min_sample_leaf = 5, min_sample_split = 25\n",
      "Trying with min_sample_leaf = 5, min_sample_split = 30\n",
      "Trying with min_sample_leaf = 5, min_sample_split = 35\n",
      "Trying with min_sample_leaf = 5, min_sample_split = 40\n",
      "Trying with min_sample_leaf = 5, min_sample_split = 45\n",
      "Trying with min_sample_leaf = 5, min_sample_split = 50\n",
      "Trying with min_sample_leaf = 10, min_sample_split = 5\n",
      "Trying with min_sample_leaf = 10, min_sample_split = 10\n",
      "Trying with min_sample_leaf = 10, min_sample_split = 15\n",
      "Trying with min_sample_leaf = 10, min_sample_split = 20\n",
      "Trying with min_sample_leaf = 10, min_sample_split = 25\n",
      "Trying with min_sample_leaf = 10, min_sample_split = 30\n",
      "Trying with min_sample_leaf = 10, min_sample_split = 35\n",
      "Trying with min_sample_leaf = 10, min_sample_split = 40\n",
      "Trying with min_sample_leaf = 10, min_sample_split = 45\n",
      "Trying with min_sample_leaf = 10, min_sample_split = 50\n",
      "Trying with min_sample_leaf = 15, min_sample_split = 5\n",
      "Trying with min_sample_leaf = 15, min_sample_split = 10\n",
      "Trying with min_sample_leaf = 15, min_sample_split = 15\n",
      "Trying with min_sample_leaf = 15, min_sample_split = 20\n",
      "Trying with min_sample_leaf = 15, min_sample_split = 25\n",
      "Trying with min_sample_leaf = 15, min_sample_split = 30\n",
      "Trying with min_sample_leaf = 15, min_sample_split = 35\n",
      "Trying with min_sample_leaf = 15, min_sample_split = 40\n",
      "Trying with min_sample_leaf = 15, min_sample_split = 45\n",
      "Trying with min_sample_leaf = 15, min_sample_split = 50\n",
      "Trying with min_sample_leaf = 20, min_sample_split = 5\n",
      "Trying with min_sample_leaf = 20, min_sample_split = 10\n",
      "Trying with min_sample_leaf = 20, min_sample_split = 15\n",
      "Trying with min_sample_leaf = 20, min_sample_split = 20\n",
      "Trying with min_sample_leaf = 20, min_sample_split = 25\n",
      "Trying with min_sample_leaf = 20, min_sample_split = 30\n",
      "Trying with min_sample_leaf = 20, min_sample_split = 35\n",
      "Trying with min_sample_leaf = 20, min_sample_split = 40\n",
      "Trying with min_sample_leaf = 20, min_sample_split = 45\n",
      "Trying with min_sample_leaf = 20, min_sample_split = 50\n",
      "Trying with min_sample_leaf = 25, min_sample_split = 5\n",
      "Trying with min_sample_leaf = 25, min_sample_split = 10\n",
      "Trying with min_sample_leaf = 25, min_sample_split = 15\n",
      "Trying with min_sample_leaf = 25, min_sample_split = 20\n",
      "Trying with min_sample_leaf = 25, min_sample_split = 25\n",
      "Trying with min_sample_leaf = 25, min_sample_split = 30\n",
      "Trying with min_sample_leaf = 25, min_sample_split = 35\n",
      "Trying with min_sample_leaf = 25, min_sample_split = 40\n",
      "Trying with min_sample_leaf = 25, min_sample_split = 45\n",
      "Trying with min_sample_leaf = 25, min_sample_split = 50\n",
      "Trying with min_sample_leaf = 30, min_sample_split = 5\n",
      "Trying with min_sample_leaf = 30, min_sample_split = 10\n",
      "Trying with min_sample_leaf = 30, min_sample_split = 15\n",
      "Trying with min_sample_leaf = 30, min_sample_split = 20\n",
      "Trying with min_sample_leaf = 30, min_sample_split = 25\n",
      "Trying with min_sample_leaf = 30, min_sample_split = 30\n",
      "Trying with min_sample_leaf = 30, min_sample_split = 35\n",
      "Trying with min_sample_leaf = 30, min_sample_split = 40\n",
      "Trying with min_sample_leaf = 30, min_sample_split = 45\n",
      "Trying with min_sample_leaf = 30, min_sample_split = 50\n",
      "Trying with min_sample_leaf = 35, min_sample_split = 5\n",
      "Trying with min_sample_leaf = 35, min_sample_split = 10\n",
      "Trying with min_sample_leaf = 35, min_sample_split = 15\n",
      "Trying with min_sample_leaf = 35, min_sample_split = 20\n",
      "Trying with min_sample_leaf = 35, min_sample_split = 25\n",
      "Trying with min_sample_leaf = 35, min_sample_split = 30\n",
      "Trying with min_sample_leaf = 35, min_sample_split = 35\n",
      "Trying with min_sample_leaf = 35, min_sample_split = 40\n",
      "Trying with min_sample_leaf = 35, min_sample_split = 45\n",
      "Trying with min_sample_leaf = 35, min_sample_split = 50\n",
      "Trying with min_sample_leaf = 40, min_sample_split = 5\n",
      "Trying with min_sample_leaf = 40, min_sample_split = 10\n",
      "Trying with min_sample_leaf = 40, min_sample_split = 15\n",
      "Trying with min_sample_leaf = 40, min_sample_split = 20\n",
      "Trying with min_sample_leaf = 40, min_sample_split = 25\n",
      "Trying with min_sample_leaf = 40, min_sample_split = 30\n",
      "Trying with min_sample_leaf = 40, min_sample_split = 35\n",
      "Trying with min_sample_leaf = 40, min_sample_split = 40\n",
      "Trying with min_sample_leaf = 40, min_sample_split = 45\n",
      "Trying with min_sample_leaf = 40, min_sample_split = 50\n",
      "Trying with min_sample_leaf = 45, min_sample_split = 5\n",
      "Trying with min_sample_leaf = 45, min_sample_split = 10\n",
      "Trying with min_sample_leaf = 45, min_sample_split = 15\n",
      "Trying with min_sample_leaf = 45, min_sample_split = 20\n",
      "Trying with min_sample_leaf = 45, min_sample_split = 25\n",
      "Trying with min_sample_leaf = 45, min_sample_split = 30\n",
      "Trying with min_sample_leaf = 45, min_sample_split = 35\n",
      "Trying with min_sample_leaf = 45, min_sample_split = 40\n",
      "Trying with min_sample_leaf = 45, min_sample_split = 45\n",
      "Trying with min_sample_leaf = 45, min_sample_split = 50\n",
      "Trying with min_sample_leaf = 50, min_sample_split = 5\n",
      "Trying with min_sample_leaf = 50, min_sample_split = 10\n",
      "Trying with min_sample_leaf = 50, min_sample_split = 15\n",
      "Trying with min_sample_leaf = 50, min_sample_split = 20\n",
      "Trying with min_sample_leaf = 50, min_sample_split = 25\n",
      "Trying with min_sample_leaf = 50, min_sample_split = 30\n",
      "Trying with min_sample_leaf = 50, min_sample_split = 35\n",
      "Trying with min_sample_leaf = 50, min_sample_split = 40\n",
      "Trying with min_sample_leaf = 50, min_sample_split = 45\n",
      "Trying with min_sample_leaf = 50, min_sample_split = 50\n"
     ]
    }
   ],
   "source": [
    "min_leaf = 5\n",
    "max_leaf = 50\n",
    "min_sample_leaf_int = range(min_leaf, max_leaf+1, 5)\n",
    "min_split = 5\n",
    "max_split = 50\n",
    "min_sample_split_int = range(min_split, max_split+1, 5)\n",
    "\n",
    "results_RMSE = np.empty((len(min_sample_leaf_int), len(min_sample_split_int)))\n",
    "results_R2 = np.empty((len(min_sample_leaf_int), len(min_sample_split_int)))\n",
    "\n",
    "i, j = 0, 0\n",
    "for x in min_sample_leaf_int:\n",
    "    j = 0\n",
    "    for y in min_sample_split_int:\n",
    "\n",
    "        print(\"Trying with min_sample_leaf = \"+str(x)+\", min_sample_split = \"+str(y))\n",
    "\n",
    "        tree = DecisionTreeRegressor(min_samples_leaf=x, min_samples_split=y)\n",
    "        tree.fit(X_train, y_train)\n",
    "        y_pred = tree.predict(X_test)\n",
    "\n",
    "        results_RMSE[i,j] = metrics.mean_squared_error(y_test, y_pred, squared=False)\n",
    "        results_R2[i,j] = metrics.r2_score(y_test, y_pred)\n",
    "        \n",
    "        j +=1\n",
    "    i += 1\n"
   ]
  },
  {
   "cell_type": "code",
   "execution_count": 6,
   "metadata": {},
   "outputs": [
    {
     "ename": "NameError",
     "evalue": "name 'min_sample_split_int' is not defined",
     "output_type": "error",
     "traceback": [
      "\u001b[0;31m---------------------------------------------------------------------------\u001b[0m",
      "\u001b[0;31mNameError\u001b[0m                                 Traceback (most recent call last)",
      "Cell \u001b[0;32mIn[6], line 1\u001b[0m\n\u001b[0;32m----> 1\u001b[0m xlabs \u001b[38;5;241m=\u001b[39m min_sample_split_int\n\u001b[1;32m      2\u001b[0m ylabs \u001b[38;5;241m=\u001b[39m min_sample_leaf_int\n\u001b[1;32m      4\u001b[0m \u001b[38;5;66;03m#Graph for RMSE\u001b[39;00m\n",
      "\u001b[0;31mNameError\u001b[0m: name 'min_sample_split_int' is not defined"
     ]
    }
   ],
   "source": [
    "xlabs = min_sample_split_int\n",
    "ylabs = min_sample_leaf_int\n",
    "\n",
    "#Graph for RMSE\n",
    "\n",
    "figure, ax = plt.subplots()\n",
    "\n",
    "# Function to show the heat map\n",
    "plt.imshow(results_RMSE , cmap = 'RdPu')\n",
    "  \n",
    "# Adding details to the plot\n",
    "plt.title( \"RMSE Heat Map\" )\n",
    "plt.xlabel('min_sample_split')\n",
    "plt.ylabel('min_sample_leaf')\n",
    "\n",
    "ax.set_xticks(np.arange(len(xlabs)), labels = xlabs)\n",
    "ax.set_yticks(np.arange(len(ylabs)), labels = ylabs)\n",
    "\n",
    "# Adding a color bar to the plot\n",
    "plt.colorbar()\n",
    "\n",
    "# Displaying the plot\n",
    "plt.show()\n",
    "\n",
    "#Graph for R2 score\n",
    "\n",
    "figure, ax = plt.subplots()\n",
    "\n",
    "# Function to show the heat map\n",
    "plt.imshow(results_R2 , cmap = 'RdPu')\n",
    "  \n",
    "# Adding details to the plot\n",
    "plt.title( \"R2 score Heat Map\" )\n",
    "plt.xlabel('min_sample_split')\n",
    "plt.ylabel('min_sample_leaf')\n",
    "\n",
    "ax.set_xticks(np.arange(len(xlabs)), labels = xlabs)\n",
    "ax.set_yticks(np.arange(len(ylabs)), labels = ylabs)\n",
    "\n",
    "# Adding a color bar to the plot\n",
    "plt.colorbar()\n",
    "\n",
    "# Displaying the plot\n",
    "plt.show()"
   ]
  },
  {
   "cell_type": "markdown",
   "metadata": {},
   "source": [
    "By the pictures, we understand that the value of *min_sample_split* doesn't influence the model performace as much as *min_sample_leaf*. Effectively, the latter prevails on the former, according to the specification of the Decision Tree Regressor: a split for an internal node with $n$ samples won't be allowed if it produces a leaf with $m >$ *min_sample_leaf* and $m < $ *min_sample_split*, even if $n > $ *min_sample_split*.\n",
    "\n",
    "As we could expect, the best values of *min_sample_leaf* and *min_sample_split* according to RMSE and R2 score coincide.\n",
    "They seem to be:\n",
    "- *min_sample_leaf* = 45\n",
    "- *min_sample_split* = 10 (other values were possible but we choose a lower one to allow splitting more often)"
   ]
  },
  {
   "cell_type": "code",
   "execution_count": 6,
   "metadata": {},
   "outputs": [
    {
     "name": "stdout",
     "output_type": "stream",
     "text": [
      "RMSE: 16.366121664085192\n",
      "R2: 0.2341839483416056\n",
      "RMSE for training: 15.006406342874348\n",
      "R2 for training: 0.3619371601791831\n"
     ]
    }
   ],
   "source": [
    "tree = DecisionTreeRegressor(min_samples_leaf=45, min_samples_split=10)\n",
    "model = tree.fit(X_train, y_train)\n",
    "pred = tree.predict(X_test)\n",
    "pred_train = tree.predict(X_train)\n",
    "\n",
    "RMSE = metrics.mean_squared_error(y_test, pred, squared=False)\n",
    "R2 = metrics.r2_score(y_test, pred)\n",
    "\n",
    "RMSE_train = metrics.mean_squared_error(y_train, pred_train, squared=False)\n",
    "R2_train = metrics.r2_score(y_train, pred_train)\n",
    "\n",
    "print(\"RMSE: \"+str(RMSE))\n",
    "print(\"R2: \"+str(R2))\n",
    "\n",
    "print(\"RMSE for training: \"+str(RMSE_train))\n",
    "print(\"R2 for training: \"+str(R2_train))"
   ]
  },
  {
   "cell_type": "markdown",
   "metadata": {},
   "source": [
    "So the best performance we can get with this model is:\n",
    "- RMSE = 16.27\n",
    "- R2 score = 0.24"
   ]
  },
  {
   "cell_type": "markdown",
   "metadata": {},
   "source": [
    "Finally, let's visualize the first levels of the corresponding decision tree to get a better understanding on what happens during the training step."
   ]
  },
  {
   "cell_type": "code",
   "execution_count": 7,
   "metadata": {},
   "outputs": [
    {
     "ename": "InvalidParameterError",
     "evalue": "The 'feature_names' parameter of plot_tree must be an instance of 'list' or None. Got array(['gender', 'region', 'highest_education', 'imd_band', 'age_band',\n       'num_of_prev_attempts', 'studied_credits', 'disability',\n       'date_registration', 'forumng_clicks', 'homepage_clicks',\n       'oucontent_clicks', 'resource_clicks', 'subpage_clicks',\n       'url_clicks', 'dataplus_clicks', 'glossary_clicks',\n       'oucollaborate_clicks', 'quiz_clicks', 'ouelluminate_clicks',\n       'sharedsubpage_clicks', 'questionnaire_clicks', 'page_clicks',\n       'externalquiz_clicks', 'ouwiki_clicks', 'dualpane_clicks',\n       'folder_clicks', 'repeatactivity_clicks', 'htmlactivity_clicks',\n       'assessment_type', 'weight', 'submission_delay'], dtype=object) instead.",
     "output_type": "error",
     "traceback": [
      "\u001b[0;31m---------------------------------------------------------------------------\u001b[0m",
      "\u001b[0;31mInvalidParameterError\u001b[0m                     Traceback (most recent call last)",
      "Cell \u001b[0;32mIn[7], line 5\u001b[0m\n\u001b[1;32m      2\u001b[0m model \u001b[38;5;241m=\u001b[39m tree\u001b[38;5;241m.\u001b[39mfit(X_train, y_train)\n\u001b[1;32m      4\u001b[0m fig \u001b[38;5;241m=\u001b[39m plt\u001b[38;5;241m.\u001b[39mfigure(figsize\u001b[38;5;241m=\u001b[39m(\u001b[38;5;241m25\u001b[39m,\u001b[38;5;241m20\u001b[39m))\n\u001b[0;32m----> 5\u001b[0m _ \u001b[38;5;241m=\u001b[39m sktree\u001b[38;5;241m.\u001b[39mplot_tree(tree, feature_names\u001b[38;5;241m=\u001b[39mX_train\u001b[38;5;241m.\u001b[39mcolumns\u001b[38;5;241m.\u001b[39mvalues, filled\u001b[38;5;241m=\u001b[39m\u001b[38;5;28;01mTrue\u001b[39;00m)\n",
      "File \u001b[0;32m~/anaconda3/lib/python3.11/site-packages/sklearn/utils/_param_validation.py:201\u001b[0m, in \u001b[0;36mvalidate_params.<locals>.decorator.<locals>.wrapper\u001b[0;34m(*args, **kwargs)\u001b[0m\n\u001b[1;32m    198\u001b[0m to_ignore \u001b[38;5;241m+\u001b[39m\u001b[38;5;241m=\u001b[39m [\u001b[38;5;124m\"\u001b[39m\u001b[38;5;124mself\u001b[39m\u001b[38;5;124m\"\u001b[39m, \u001b[38;5;124m\"\u001b[39m\u001b[38;5;124mcls\u001b[39m\u001b[38;5;124m\"\u001b[39m]\n\u001b[1;32m    199\u001b[0m params \u001b[38;5;241m=\u001b[39m {k: v \u001b[38;5;28;01mfor\u001b[39;00m k, v \u001b[38;5;129;01min\u001b[39;00m params\u001b[38;5;241m.\u001b[39marguments\u001b[38;5;241m.\u001b[39mitems() \u001b[38;5;28;01mif\u001b[39;00m k \u001b[38;5;129;01mnot\u001b[39;00m \u001b[38;5;129;01min\u001b[39;00m to_ignore}\n\u001b[0;32m--> 201\u001b[0m validate_parameter_constraints(\n\u001b[1;32m    202\u001b[0m     parameter_constraints, params, caller_name\u001b[38;5;241m=\u001b[39mfunc\u001b[38;5;241m.\u001b[39m\u001b[38;5;18m__qualname__\u001b[39m\n\u001b[1;32m    203\u001b[0m )\n\u001b[1;32m    205\u001b[0m \u001b[38;5;28;01mtry\u001b[39;00m:\n\u001b[1;32m    206\u001b[0m     \u001b[38;5;28;01mwith\u001b[39;00m config_context(\n\u001b[1;32m    207\u001b[0m         skip_parameter_validation\u001b[38;5;241m=\u001b[39m(\n\u001b[1;32m    208\u001b[0m             prefer_skip_nested_validation \u001b[38;5;129;01mor\u001b[39;00m global_skip_validation\n\u001b[1;32m    209\u001b[0m         )\n\u001b[1;32m    210\u001b[0m     ):\n",
      "File \u001b[0;32m~/anaconda3/lib/python3.11/site-packages/sklearn/utils/_param_validation.py:95\u001b[0m, in \u001b[0;36mvalidate_parameter_constraints\u001b[0;34m(parameter_constraints, params, caller_name)\u001b[0m\n\u001b[1;32m     89\u001b[0m \u001b[38;5;28;01melse\u001b[39;00m:\n\u001b[1;32m     90\u001b[0m     constraints_str \u001b[38;5;241m=\u001b[39m (\n\u001b[1;32m     91\u001b[0m         \u001b[38;5;124mf\u001b[39m\u001b[38;5;124m\"\u001b[39m\u001b[38;5;132;01m{\u001b[39;00m\u001b[38;5;124m'\u001b[39m\u001b[38;5;124m, \u001b[39m\u001b[38;5;124m'\u001b[39m\u001b[38;5;241m.\u001b[39mjoin([\u001b[38;5;28mstr\u001b[39m(c)\u001b[38;5;250m \u001b[39m\u001b[38;5;28;01mfor\u001b[39;00m\u001b[38;5;250m \u001b[39mc\u001b[38;5;250m \u001b[39m\u001b[38;5;129;01min\u001b[39;00m\u001b[38;5;250m \u001b[39mconstraints[:\u001b[38;5;241m-\u001b[39m\u001b[38;5;241m1\u001b[39m]])\u001b[38;5;132;01m}\u001b[39;00m\u001b[38;5;124m or\u001b[39m\u001b[38;5;124m\"\u001b[39m\n\u001b[1;32m     92\u001b[0m         \u001b[38;5;124mf\u001b[39m\u001b[38;5;124m\"\u001b[39m\u001b[38;5;124m \u001b[39m\u001b[38;5;132;01m{\u001b[39;00mconstraints[\u001b[38;5;241m-\u001b[39m\u001b[38;5;241m1\u001b[39m]\u001b[38;5;132;01m}\u001b[39;00m\u001b[38;5;124m\"\u001b[39m\n\u001b[1;32m     93\u001b[0m     )\n\u001b[0;32m---> 95\u001b[0m \u001b[38;5;28;01mraise\u001b[39;00m InvalidParameterError(\n\u001b[1;32m     96\u001b[0m     \u001b[38;5;124mf\u001b[39m\u001b[38;5;124m\"\u001b[39m\u001b[38;5;124mThe \u001b[39m\u001b[38;5;132;01m{\u001b[39;00mparam_name\u001b[38;5;132;01m!r}\u001b[39;00m\u001b[38;5;124m parameter of \u001b[39m\u001b[38;5;132;01m{\u001b[39;00mcaller_name\u001b[38;5;132;01m}\u001b[39;00m\u001b[38;5;124m must be\u001b[39m\u001b[38;5;124m\"\u001b[39m\n\u001b[1;32m     97\u001b[0m     \u001b[38;5;124mf\u001b[39m\u001b[38;5;124m\"\u001b[39m\u001b[38;5;124m \u001b[39m\u001b[38;5;132;01m{\u001b[39;00mconstraints_str\u001b[38;5;132;01m}\u001b[39;00m\u001b[38;5;124m. Got \u001b[39m\u001b[38;5;132;01m{\u001b[39;00mparam_val\u001b[38;5;132;01m!r}\u001b[39;00m\u001b[38;5;124m instead.\u001b[39m\u001b[38;5;124m\"\u001b[39m\n\u001b[1;32m     98\u001b[0m )\n",
      "\u001b[0;31mInvalidParameterError\u001b[0m: The 'feature_names' parameter of plot_tree must be an instance of 'list' or None. Got array(['gender', 'region', 'highest_education', 'imd_band', 'age_band',\n       'num_of_prev_attempts', 'studied_credits', 'disability',\n       'date_registration', 'forumng_clicks', 'homepage_clicks',\n       'oucontent_clicks', 'resource_clicks', 'subpage_clicks',\n       'url_clicks', 'dataplus_clicks', 'glossary_clicks',\n       'oucollaborate_clicks', 'quiz_clicks', 'ouelluminate_clicks',\n       'sharedsubpage_clicks', 'questionnaire_clicks', 'page_clicks',\n       'externalquiz_clicks', 'ouwiki_clicks', 'dualpane_clicks',\n       'folder_clicks', 'repeatactivity_clicks', 'htmlactivity_clicks',\n       'assessment_type', 'weight', 'submission_delay'], dtype=object) instead."
     ]
    },
    {
     "data": {
      "text/plain": [
       "<Figure size 2500x2000 with 0 Axes>"
      ]
     },
     "metadata": {},
     "output_type": "display_data"
    }
   ],
   "source": [
    "tree = DecisionTreeRegressor(min_samples_leaf=45, min_samples_split=10, max_depth=3)\n",
    "model = tree.fit(X_train, y_train)\n",
    "\n",
    "fig = plt.figure(figsize=(25,20))\n",
    "_ = sktree.plot_tree(tree, feature_names=X_train.columns.values, filled=True)"
   ]
  },
  {
   "cell_type": "markdown",
   "metadata": {},
   "source": [
    "The plot below represents the number of wrong prediction for some error values."
   ]
  },
  {
   "cell_type": "code",
   "execution_count": 8,
   "metadata": {},
   "outputs": [
    {
     "data": {
      "image/png": "[encoded data removed]",
      "text/plain": [
       "<Figure size 640x480 with 1 Axes>"
      ]
     },
     "metadata": {},
     "output_type": "display_data"
    }
   ],
   "source": [
    "\n",
    "intervals=50\n",
    "sliceInterval= 200/intervals\n",
    "quantities=np.zeros(intervals)\n",
    "values=np.zeros(intervals)\n",
    "y_diff=y_pred-y_test.values.flatten()\n",
    "\n",
    "for j in range(intervals):\n",
    "    quantities[j]= np.logical_and(y_diff >(sliceInterval*j)-100,y_diff < (sliceInterval*(j+1))-100).sum()\n",
    "    values[j]=(sliceInterval*j)-100\n",
    "\n",
    "plt.plot(values,quantities)\n",
    "plt.xlabel(\"error of prediction\")\n",
    "plt.ylabel(\"quantity of students\")\n",
    "plt.show()"
   ]
  },
  {
   "cell_type": "code",
   "execution_count": null,
   "metadata": {},
   "outputs": [],
   "source": []
  }
 ],
 "metadata": {
  "kernelspec": {
   "display_name": "Python 3",
   "language": "python",
   "name": "python3"
  },
  "language_info": {
   "codemirror_mode": {
    "name": "ipython",
    "version": 3
   },
   "file_extension": ".py",
   "mimetype": "text/x-python",
   "name": "python",
   "nbconvert_exporter": "python",
   "pygments_lexer": "ipython3",
   "version": "3.11.4"
  }
 },
 "nbformat": 4,
 "nbformat_minor": 2
}
