{
 "cells": [
  {
   "cell_type": "code",
   "execution_count": null,
   "metadata": {},
   "outputs": [],
   "source": [
    "import pandas as pd\n",
    "import sklearn.metrics as metrics\n",
    "import matplotlib.pyplot as plt\n",
    "import numpy as np"
   ]
  },
  {
   "cell_type": "code",
   "execution_count": null,
   "metadata": {},
   "outputs": [],
   "source": [
    "X_train = pd.read_csv(\"sets/X_train.csv\")\n",
    "X_test = pd.read_csv(\"sets/X_test.csv\")\n",
    "y_train = pd.read_csv(\"sets/y_train.csv\")\n",
    "y_test = pd.read_csv(\"sets/y_test.csv\")\n",
    "y = pd.read_csv(\"sets/y.csv\")"
   ]
  },
  {
   "cell_type": "markdown",
   "metadata": {},
   "source": [
    "### Decision trees"
   ]
  },
  {
   "cell_type": "markdown",
   "metadata": {},
   "source": [
    "Decision trees are a simple ML model that we can use for the regression task of predicting the score of some student in an assessment.\n",
    "This model should be able to deal with the non-linear relationship between the features and the target, thus achieving better results compared to linear regression. However, it might be prone to overfitting."
   ]
  },
  {
   "cell_type": "code",
   "execution_count": null,
   "metadata": {},
   "outputs": [],
   "source": [
    "#using the scikit-learn implementation of the model\n",
    "from sklearn.tree import DecisionTreeRegressor\n",
    "\n",
    "min_samples_leaf = 15 #minimum number of samples required in a leaf -> may smooth the model\n",
    "min_samples_split = 10 #minimum number of samples to split an internal node\n",
    "\n",
    "decTree = DecisionTreeRegressor(min_samples_leaf=min_samples_leaf, min_samples_split=min_samples_split)\n",
    "\n",
    "decTree.fit(X_train, y_train)"
   ]
  },
  {
   "cell_type": "markdown",
   "metadata": {},
   "source": [
    "We evaluate the model by considering the RMSE error and the R2 score."
   ]
  },
  {
   "cell_type": "code",
   "execution_count": null,
   "metadata": {},
   "outputs": [],
   "source": [
    "y_pred = decTree.predict(X_test)\n",
    "y_pred_train = decTree.predict(X_train)\n",
    "\n",
    "#de-normalize preds and test target values\n",
    "y_pred = y_pred*np.std(y) + np.mean(y)\n",
    "y_pred_train = y_pred_train*np.std(y) + np.mean(y)\n",
    "y_test_deNorm = y_test*np.std(y) + np.mean(y)\n",
    "y_train_deNorm = y_train*np.std(y) + np.mean(y)\n",
    "\n",
    "RMSE_trees = metrics.mean_squared_error(y_test_deNorm, y_pred, squared=False)\n",
    "R2_trees = metrics.r2_score(y_test_deNorm, y_pred)\n",
    "\n",
    "RMSE_trees_train = metrics.mean_squared_error(y_train_deNorm, y_pred_train, squared=False)\n",
    "R2_trees_train = metrics.r2_score(y_train_deNorm, y_pred_train)"
   ]
  },
  {
   "cell_type": "code",
   "execution_count": null,
   "metadata": {},
   "outputs": [],
   "source": [
    "print(\"RMSE: \"+str(RMSE_trees))\n",
    "print(\"R2: \"+str(R2_trees))\n",
    "\n",
    "print(\"RMSE for training: \"+str(RMSE_trees_train))\n",
    "print(\"R2 for training: \"+str(R2_trees_train))"
   ]
  }
 ],
 "metadata": {
  "kernelspec": {
   "display_name": "Python 3",
   "language": "python",
   "name": "python3"
  },
  "language_info": {
   "codemirror_mode": {
    "name": "ipython",
    "version": 3
   },
   "file_extension": ".py",
   "mimetype": "text/x-python",
   "name": "python",
   "nbconvert_exporter": "python",
   "pygments_lexer": "ipython3",
   "version": "3.11.6"
  }
 },
 "nbformat": 4,
 "nbformat_minor": 2
}
