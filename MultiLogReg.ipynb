{
 "cells": [
  {
   "cell_type": "code",
   "execution_count": 611,
   "metadata": {},
   "outputs": [],
   "source": [
    "import pandas as pd\n",
    "import numpy as np\n",
    "import math\n",
    "import matplotlib as mlp\n",
    "import matplotlib.pyplot as plt\n",
    "import sklearn.linear_model as skm\n",
    "from sklearn.metrics import accuracy_score, classification_report"
   ]
  },
  {
   "cell_type": "markdown",
   "metadata": {},
   "source": [
    "First, we read the training and test set."
   ]
  },
  {
   "cell_type": "code",
   "execution_count": 612,
   "metadata": {},
   "outputs": [
    {
     "name": "stdout",
     "output_type": "stream",
     "text": [
      "Index(['gender', 'region', 'highest_education', 'imd_band', 'age_band',\n",
      "       'num_of_prev_attempts', 'studied_credits', 'disability',\n",
      "       'date_registration', 'forumng_clicks', 'homepage_clicks',\n",
      "       'oucontent_clicks', 'resource_clicks', 'subpage_clicks', 'url_clicks',\n",
      "       'dataplus_clicks', 'glossary_clicks', 'oucollaborate_clicks',\n",
      "       'quiz_clicks', 'ouelluminate_clicks', 'sharedsubpage_clicks',\n",
      "       'questionnaire_clicks', 'page_clicks', 'externalquiz_clicks',\n",
      "       'ouwiki_clicks', 'dualpane_clicks', 'folder_clicks',\n",
      "       'repeatactivity_clicks', 'htmlactivity_clicks', 'assessment_type',\n",
      "       'weight', 'submission_delay'],\n",
      "      dtype='object')\n"
     ]
    }
   ],
   "source": [
    "X_test=pd.read_csv(\"sets/X_test.csv\").drop(\"Unnamed: 0\",axis=1)\n",
    "X_train=pd.read_csv(\"sets/X_train.csv\").drop(\"Unnamed: 0\",axis=1)\n",
    "y_test=pd.read_csv(\"sets/y_test.csv\")['score']\n",
    "y_train=pd.read_csv(\"sets/y_train.csv\")['score']\n",
    "print(X_test.columns)"
   ]
  },
  {
   "cell_type": "markdown",
   "metadata": {},
   "source": [
    "We choose the amount of classes we wount to divide the target values into and reassigne the values in the target sets.\n",
    "\n",
    "Let $c$ be the number of classes, each value $v$, belonging to the set $V$ that we want to modify, will be reassigned as follows:\n",
    "\n",
    "$$\n",
    "v=\\left\\lceil\\frac{v-\\min{V}}{\\frac{\\max{V}-\\min{V}}{c}}\\right\\rceil\n",
    "$$"
   ]
  },
  {
   "cell_type": "code",
   "execution_count": 613,
   "metadata": {},
   "outputs": [],
   "source": [
    "classes=10\n",
    "\n",
    "def classesAssignment(nClasses, set, maximum, minimum):\n",
    "    \"\"\"\n",
    "    Modifies the set in input such that values will be rounded off.\n",
    "     Args:\n",
    "     nClasses: the expected quantity of values\n",
    "     set: the set that has to be modified\n",
    "     maximum: the maximum possible value in the set\n",
    "     minimum: the minimum possible value in the set\n",
    "    \"\"\"\n",
    "\n",
    "    retSet=np.ceil((set-minimum)/((maximum-minimum)/nClasses))\n",
    "    \n",
    "    for i in range(len(retSet)) :\n",
    "        if retSet[i]==0 :\n",
    "            retSet[i]=1\n",
    "\n",
    "    return retSet\n",
    "\n",
    "\n",
    "maximum=max(y_test.max(),y_train.max())\n",
    "minimum=min(y_test.min(),y_train.min())\n",
    "\n",
    "y_test=classesAssignment(classes,y_test,maximum,minimum)\n",
    "y_train=classesAssignment(classes,y_train,maximum,minimum)"
   ]
  },
  {
   "cell_type": "markdown",
   "metadata": {},
   "source": [
    "Now we set up the model."
   ]
  },
  {
   "cell_type": "code",
   "execution_count": 614,
   "metadata": {},
   "outputs": [
    {
     "name": "stdout",
     "output_type": "stream",
     "text": [
      "Index(['gender', 'region', 'highest_education', 'imd_band', 'age_band',\n",
      "       'num_of_prev_attempts', 'studied_credits', 'disability',\n",
      "       'date_registration', 'forumng_clicks', 'homepage_clicks',\n",
      "       'oucontent_clicks', 'resource_clicks', 'subpage_clicks', 'url_clicks',\n",
      "       'dataplus_clicks', 'glossary_clicks', 'oucollaborate_clicks',\n",
      "       'quiz_clicks', 'ouelluminate_clicks', 'sharedsubpage_clicks',\n",
      "       'questionnaire_clicks', 'page_clicks', 'externalquiz_clicks',\n",
      "       'ouwiki_clicks', 'dualpane_clicks', 'folder_clicks',\n",
      "       'repeatactivity_clicks', 'htmlactivity_clicks', 'assessment_type',\n",
      "       'weight', 'submission_delay'],\n",
      "      dtype='object')\n"
     ]
    }
   ],
   "source": [
    "lrm = skm.LogisticRegression(multi_class='multinomial',max_iter=10000,random_state=2)\n",
    "\n",
    "print(X_train.columns)\n",
    "X_train=X_train[['gender', 'region', 'highest_education', 'imd_band', 'age_band',\n",
    "       'num_of_prev_attempts', 'studied_credits', 'disability',\n",
    "       'date_registration', 'forumng_clicks', 'homepage_clicks',\n",
    "       'oucontent_clicks', 'resource_clicks', 'subpage_clicks', 'url_clicks',\n",
    "       'dataplus_clicks', 'glossary_clicks', 'oucollaborate_clicks',\n",
    "       'quiz_clicks', 'ouelluminate_clicks', 'sharedsubpage_clicks',\n",
    "       'questionnaire_clicks', 'page_clicks', 'externalquiz_clicks',\n",
    "       'ouwiki_clicks', 'dualpane_clicks', 'folder_clicks',\n",
    "       'repeatactivity_clicks', 'htmlactivity_clicks', 'assessment_type',\n",
    "       'weight', 'submission_delay']]\n",
    "\n",
    "X_test=X_test[['gender', 'region', 'highest_education', 'imd_band', 'age_band',\n",
    "       'num_of_prev_attempts', 'studied_credits', 'disability',\n",
    "       'date_registration', 'forumng_clicks', 'homepage_clicks',\n",
    "       'oucontent_clicks', 'resource_clicks', 'subpage_clicks', 'url_clicks',\n",
    "       'dataplus_clicks', 'glossary_clicks', 'oucollaborate_clicks',\n",
    "       'quiz_clicks', 'ouelluminate_clicks', 'sharedsubpage_clicks',\n",
    "       'questionnaire_clicks', 'page_clicks', 'externalquiz_clicks',\n",
    "       'ouwiki_clicks', 'dualpane_clicks', 'folder_clicks',\n",
    "       'repeatactivity_clicks', 'htmlactivity_clicks', 'assessment_type',\n",
    "       'weight', 'submission_delay']]"
   ]
  },
  {
   "cell_type": "markdown",
   "metadata": {},
   "source": [
    "And train it."
   ]
  },
  {
   "cell_type": "code",
   "execution_count": 615,
   "metadata": {},
   "outputs": [
    {
     "data": {
      "text/html": [
       "<style>#sk-container-id-88 {color: black;}#sk-container-id-88 pre{padding: 0;}#sk-container-id-88 div.sk-toggleable {background-color: white;}#sk-container-id-88 label.sk-toggleable__label {cursor: pointer;display: block;width: 100%;margin-bottom: 0;padding: 0.3em;box-sizing: border-box;text-align: center;}#sk-container-id-88 label.sk-toggleable__label-arrow:before {content: \"▸\";float: left;margin-right: 0.25em;color: #696969;}#sk-container-id-88 label.sk-toggleable__label-arrow:hover:before {color: black;}#sk-container-id-88 div.sk-estimator:hover label.sk-toggleable__label-arrow:before {color: black;}#sk-container-id-88 div.sk-toggleable__content {max-height: 0;max-width: 0;overflow: hidden;text-align: left;background-color: #f0f8ff;}#sk-container-id-88 div.sk-toggleable__content pre {margin: 0.2em;color: black;border-radius: 0.25em;background-color: #f0f8ff;}#sk-container-id-88 input.sk-toggleable__control:checked~div.sk-toggleable__content {max-height: 200px;max-width: 100%;overflow: auto;}#sk-container-id-88 input.sk-toggleable__control:checked~label.sk-toggleable__label-arrow:before {content: \"▾\";}#sk-container-id-88 div.sk-estimator input.sk-toggleable__control:checked~label.sk-toggleable__label {background-color: #d4ebff;}#sk-container-id-88 div.sk-label input.sk-toggleable__control:checked~label.sk-toggleable__label {background-color: #d4ebff;}#sk-container-id-88 input.sk-hidden--visually {border: 0;clip: rect(1px 1px 1px 1px);clip: rect(1px, 1px, 1px, 1px);height: 1px;margin: -1px;overflow: hidden;padding: 0;position: absolute;width: 1px;}#sk-container-id-88 div.sk-estimator {font-family: monospace;background-color: #f0f8ff;border: 1px dotted black;border-radius: 0.25em;box-sizing: border-box;margin-bottom: 0.5em;}#sk-container-id-88 div.sk-estimator:hover {background-color: #d4ebff;}#sk-container-id-88 div.sk-parallel-item::after {content: \"\";width: 100%;border-bottom: 1px solid gray;flex-grow: 1;}#sk-container-id-88 div.sk-label:hover label.sk-toggleable__label {background-color: #d4ebff;}#sk-container-id-88 div.sk-serial::before {content: \"\";position: absolute;border-left: 1px solid gray;box-sizing: border-box;top: 0;bottom: 0;left: 50%;z-index: 0;}#sk-container-id-88 div.sk-serial {display: flex;flex-direction: column;align-items: center;background-color: white;padding-right: 0.2em;padding-left: 0.2em;position: relative;}#sk-container-id-88 div.sk-item {position: relative;z-index: 1;}#sk-container-id-88 div.sk-parallel {display: flex;align-items: stretch;justify-content: center;background-color: white;position: relative;}#sk-container-id-88 div.sk-item::before, #sk-container-id-88 div.sk-parallel-item::before {content: \"\";position: absolute;border-left: 1px solid gray;box-sizing: border-box;top: 0;bottom: 0;left: 50%;z-index: -1;}#sk-container-id-88 div.sk-parallel-item {display: flex;flex-direction: column;z-index: 1;position: relative;background-color: white;}#sk-container-id-88 div.sk-parallel-item:first-child::after {align-self: flex-end;width: 50%;}#sk-container-id-88 div.sk-parallel-item:last-child::after {align-self: flex-start;width: 50%;}#sk-container-id-88 div.sk-parallel-item:only-child::after {width: 0;}#sk-container-id-88 div.sk-dashed-wrapped {border: 1px dashed gray;margin: 0 0.4em 0.5em 0.4em;box-sizing: border-box;padding-bottom: 0.4em;background-color: white;}#sk-container-id-88 div.sk-label label {font-family: monospace;font-weight: bold;display: inline-block;line-height: 1.2em;}#sk-container-id-88 div.sk-label-container {text-align: center;}#sk-container-id-88 div.sk-container {/* jupyter's `normalize.less` sets `[hidden] { display: none; }` but bootstrap.min.css set `[hidden] { display: none !important; }` so we also need the `!important` here to be able to override the default hidden behavior on the sphinx rendered scikit-learn.org. See: https://github.com/scikit-learn/scikit-learn/issues/21755 */display: inline-block !important;position: relative;}#sk-container-id-88 div.sk-text-repr-fallback {display: none;}</style><div id=\"sk-container-id-88\" class=\"sk-top-container\"><div class=\"sk-text-repr-fallback\"><pre>LogisticRegression(max_iter=10000, multi_class=&#x27;multinomial&#x27;, random_state=2)</pre><b>In a Jupyter environment, please rerun this cell to show the HTML representation or trust the notebook. <br />On GitHub, the HTML representation is unable to render, please try loading this page with nbviewer.org.</b></div><div class=\"sk-container\" hidden><div class=\"sk-item\"><div class=\"sk-estimator sk-toggleable\"><input class=\"sk-toggleable__control sk-hidden--visually\" id=\"sk-estimator-id-88\" type=\"checkbox\" checked><label for=\"sk-estimator-id-88\" class=\"sk-toggleable__label sk-toggleable__label-arrow\">LogisticRegression</label><div class=\"sk-toggleable__content\"><pre>LogisticRegression(max_iter=10000, multi_class=&#x27;multinomial&#x27;, random_state=2)</pre></div></div></div></div></div>"
      ],
      "text/plain": [
       "LogisticRegression(max_iter=10000, multi_class='multinomial', random_state=2)"
      ]
     },
     "execution_count": 615,
     "metadata": {},
     "output_type": "execute_result"
    }
   ],
   "source": [
    "lrm.fit(X_train,y_train)"
   ]
  },
  {
   "cell_type": "markdown",
   "metadata": {},
   "source": [
    "We can then check the accuracy."
   ]
  },
  {
   "cell_type": "code",
   "execution_count": 616,
   "metadata": {},
   "outputs": [
    {
     "name": "stdout",
     "output_type": "stream",
     "text": [
      "Accuracy is:  0.29233735234714486\n",
      "Accuracy: 0.29233735234714486\n",
      "              precision    recall  f1-score   support\n",
      "\n",
      "         1.0       0.40      0.01      0.01       287\n",
      "         2.0       0.00      0.00      0.00       219\n",
      "         3.0       0.00      0.00      0.00       343\n",
      "         4.0       0.00      0.00      0.00       885\n",
      "         5.0       0.00      0.00      0.00      1368\n",
      "         6.0       0.11      0.00      0.00      3109\n",
      "         7.0       0.17      0.00      0.01      4508\n",
      "         8.0       0.25      0.56      0.35      7850\n",
      "         9.0       0.32      0.33      0.32      6808\n",
      "        10.0       0.35      0.40      0.37      7301\n",
      "\n",
      "    accuracy                           0.29     32678\n",
      "   macro avg       0.16      0.13      0.11     32678\n",
      "weighted avg       0.24      0.29      0.24     32678\n",
      "\n"
     ]
    },
    {
     "name": "stderr",
     "output_type": "stream",
     "text": [
      "/home/tolatale/anaconda3/lib/python3.11/site-packages/sklearn/metrics/_classification.py:1469: UndefinedMetricWarning: Precision and F-score are ill-defined and being set to 0.0 in labels with no predicted samples. Use `zero_division` parameter to control this behavior.\n",
      "  _warn_prf(average, modifier, msg_start, len(result))\n",
      "/home/tolatale/anaconda3/lib/python3.11/site-packages/sklearn/metrics/_classification.py:1469: UndefinedMetricWarning: Precision and F-score are ill-defined and being set to 0.0 in labels with no predicted samples. Use `zero_division` parameter to control this behavior.\n",
      "  _warn_prf(average, modifier, msg_start, len(result))\n",
      "/home/tolatale/anaconda3/lib/python3.11/site-packages/sklearn/metrics/_classification.py:1469: UndefinedMetricWarning: Precision and F-score are ill-defined and being set to 0.0 in labels with no predicted samples. Use `zero_division` parameter to control this behavior.\n",
      "  _warn_prf(average, modifier, msg_start, len(result))\n"
     ]
    }
   ],
   "source": [
    "preds=lrm.predict(X_test)\n",
    "\n",
    "check=preds==y_test\n",
    "for i in range(len(check)):\n",
    "    if not check[i]:\n",
    "        continue\n",
    "        print (preds[i],y_test[i])\n",
    "accuracy=(sum(preds==y_test))/len(preds)\n",
    "print(\"Accuracy is: \",accuracy)\n",
    "accuracy = sklearn.metrics.accuracy_score(y_test, preds)\n",
    "print(\"Accuracy:\", accuracy)\n",
    "print(classification_report(y_test, preds))"
   ]
  },
  {
   "cell_type": "code",
   "execution_count": 617,
   "metadata": {},
   "outputs": [
    {
     "name": "stdout",
     "output_type": "stream",
     "text": [
      "E' IL TURNO DELLA FEATURE  gender\n",
      "Accuracy is:  0.29258216537119774\n",
      "Accuracy: 0.29258216537119774\n",
      "E' IL TURNO DELLA FEATURE  region\n",
      "Accuracy is:  0.2930717914193035\n",
      "Accuracy: 0.2930717914193035\n",
      "E' IL TURNO DELLA FEATURE  highest_education\n",
      "Accuracy is:  0.2939286370034886\n",
      "Accuracy: 0.2939286370034886\n",
      "E' IL TURNO DELLA FEATURE  imd_band\n",
      "Accuracy is:  0.29291878327927046\n",
      "Accuracy: 0.29291878327927046\n",
      "E' IL TURNO DELLA FEATURE  age_band\n",
      "Accuracy is:  0.2912968969949201\n",
      "Accuracy: 0.2912968969949201\n",
      "E' IL TURNO DELLA FEATURE  num_of_prev_attempts\n",
      "Accuracy is:  0.29169471815900605\n",
      "Accuracy: 0.29169471815900605\n",
      "E' IL TURNO DELLA FEATURE  studied_credits\n",
      "Accuracy is:  0.2918171246710325\n",
      "Accuracy: 0.2918171246710325\n",
      "E' IL TURNO DELLA FEATURE  disability\n",
      "Accuracy is:  0.29264336862721096\n",
      "Accuracy: 0.29264336862721096\n",
      "E' IL TURNO DELLA FEATURE  date_registration\n",
      "Accuracy is:  0.29175592141501927\n",
      "Accuracy: 0.29175592141501927\n",
      "E' IL TURNO DELLA FEATURE  forumng_clicks\n",
      "Accuracy is:  0.29203133606707876\n",
      "Accuracy: 0.29203133606707876\n",
      "E' IL TURNO DELLA FEATURE  homepage_clicks\n",
      "Accuracy is:  0.2926739702552176\n",
      "Accuracy: 0.2926739702552176\n",
      "E' IL TURNO DELLA FEATURE  oucontent_clicks\n",
      "Accuracy is:  0.29022584001468876\n",
      "Accuracy: 0.29022584001468876\n",
      "E' IL TURNO DELLA FEATURE  resource_clicks\n",
      "Accuracy is:  0.2919089295550523\n",
      "Accuracy: 0.2919089295550523\n",
      "E' IL TURNO DELLA FEATURE  subpage_clicks\n",
      "Accuracy is:  0.29230675071913825\n",
      "Accuracy: 0.29230675071913825\n",
      "E' IL TURNO DELLA FEATURE  url_clicks\n",
      "Accuracy is:  0.2918171246710325\n",
      "Accuracy: 0.2918171246710325\n",
      "E' IL TURNO DELLA FEATURE  dataplus_clicks\n",
      "Accuracy is:  0.29197013281106554\n",
      "Accuracy: 0.29197013281106554\n",
      "E' IL TURNO DELLA FEATURE  glossary_clicks\n",
      "Accuracy is:  0.2924597588591713\n",
      "Accuracy: 0.2924597588591713\n",
      "E' IL TURNO DELLA FEATURE  oucollaborate_clicks\n",
      "Accuracy is:  0.2925209621151845\n",
      "Accuracy: 0.2925209621151845\n",
      "E' IL TURNO DELLA FEATURE  quiz_clicks\n",
      "Accuracy is:  0.28900177489442436\n",
      "Accuracy: 0.28900177489442436\n",
      "E' IL TURNO DELLA FEATURE  ouelluminate_clicks\n",
      "Accuracy is:  0.29230675071913825\n",
      "Accuracy: 0.29230675071913825\n",
      "E' IL TURNO DELLA FEATURE  sharedsubpage_clicks\n",
      "Accuracy is:  0.29233735234714486\n",
      "Accuracy: 0.29233735234714486\n",
      "E' IL TURNO DELLA FEATURE  questionnaire_clicks\n",
      "Accuracy is:  0.29264336862721096\n",
      "Accuracy: 0.29264336862721096\n",
      "E' IL TURNO DELLA FEATURE  page_clicks\n",
      "Accuracy is:  0.29230675071913825\n",
      "Accuracy: 0.29230675071913825\n",
      "E' IL TURNO DELLA FEATURE  externalquiz_clicks\n",
      "Accuracy is:  0.29203133606707876\n",
      "Accuracy: 0.29203133606707876\n",
      "E' IL TURNO DELLA FEATURE  ouwiki_clicks\n",
      "Accuracy is:  0.2874104902380807\n",
      "Accuracy: 0.2874104902380807\n",
      "E' IL TURNO DELLA FEATURE  dualpane_clicks\n",
      "Accuracy is:  0.2925209621151845\n",
      "Accuracy: 0.2925209621151845\n",
      "E' IL TURNO DELLA FEATURE  folder_clicks\n",
      "Accuracy is:  0.28924658791847724\n",
      "Accuracy: 0.28924658791847724\n",
      "E' IL TURNO DELLA FEATURE  repeatactivity_clicks\n",
      "Accuracy is:  0.2921537425791052\n",
      "Accuracy: 0.2921537425791052\n",
      "E' IL TURNO DELLA FEATURE  htmlactivity_clicks\n",
      "Accuracy is:  0.29163351490299283\n",
      "Accuracy: 0.29163351490299283\n",
      "E' IL TURNO DELLA FEATURE  submission_delay\n",
      "Accuracy is:  0.2837688965052941\n",
      "Accuracy: 0.2837688965052941\n",
      "FeatureMax è:  highest_education  con  0.2939286370034886\n",
      "FeatureMin è:  submission_delay  con  0.2837688965052941\n"
     ]
    }
   ],
   "source": [
    "features=[]\n",
    "\n",
    "for feature in X_test.columns:\n",
    "    features.append(feature)\n",
    "\n",
    "featuresC=features.copy()\n",
    "\n",
    "accMax=0\n",
    "accMin=200\n",
    "\n",
    "for feature in features:\n",
    "    print(\"E' IL TURNO DELLA FEATURE \",feature)\n",
    "    featuresC.remove(feature)\n",
    "\n",
    "    Xtest=X_test[featuresC]\n",
    "    Xtrain=X_train[featuresC]\n",
    "    lrm = skm.LogisticRegression(multi_class='multinomial',max_iter=10000,random_state=2)\n",
    "    lrm.fit(Xtrain,y_train)\n",
    "\n",
    "    preds=lrm.predict(Xtest)\n",
    "\n",
    "    check=preds==y_test\n",
    "    accuracy=(sum(preds==y_test))/len(preds)\n",
    "    print(\"Accuracy is: \",accuracy)\n",
    "    accuracy = sklearn.metrics.accuracy_score(y_test, preds)\n",
    "    print(\"Accuracy:\", accuracy)\n",
    "    #print(classification_report(y_test, preds))\n",
    "\n",
    "    if accuracy>accMax:\n",
    "        accMax=accuracy\n",
    "        featureMax=feature\n",
    "    if accuracy<accMin:\n",
    "        accMin=accuracy\n",
    "        featureMin=feature\n",
    "\n",
    "    featuresC.append(feature)    \n",
    "\n",
    "print(\"FeatureMax è: \",featureMax,\" con \",accMax)\n",
    "print(\"FeatureMin è: \",featureMin,\" con \",accMin)"
   ]
  },
  {
   "cell_type": "markdown",
   "metadata": {},
   "source": [
    "Log for search of best set of features:\n",
    "\n",
    "1:\n",
    "    FeatureMax è:  forumng_clicks  con  0.31868535406083603  \n",
    "    FeatureMax è:  assessment_type  con  0.30681192239427135\n",
    "\n",
    "remove forumng_clicks\n",
    "\n",
    "2:\n",
    "    FeatureMax è:  studied_credits  con  0.3192667849929616  \n",
    "    FeatureMax è:  assessment_type  con  0.30616928820613254    \n",
    "\n",
    "remove studied_credits\n",
    "\n",
    "3:\n",
    "    FeatureMax è:  page_clicks  con  0.319787012669074   \n",
    "    FeatureMax è:  assessment_type  con  0.3072709468143705\n",
    "\n",
    "remove page_clicks\n",
    "\n",
    "4:\n",
    "    FeatureMax è:  dualpane_clicks  con  0.3201236305771467    \n",
    "    FeatureMax è:  assessment_type  con  0.3078523777464961\n",
    "\n",
    "remove dualpane_clicks\n",
    "\n",
    "5:\n",
    "    FeatureMax è:  num_of_prev_attempts  con  0.32021543546116654  \n",
    "    FeatureMax è:  assessment_type  con  0.30806658914254237\n",
    "\n",
    "remove num_of_prev_attempts\n",
    "\n",
    "6:  \n",
    "    FeatureMax è:  url_clicks  con  0.32021543546116654  \n",
    "    FeatureMax è:  assessment_type  con  0.30837260542260847\n",
    "\n",
    "\n"
   ]
  },
  {
   "cell_type": "markdown",
   "metadata": {},
   "source": []
  },
  {
   "cell_type": "markdown",
   "metadata": {},
   "source": [
    "ROUND 2\n",
    "\n",
    "1:\n",
    "    FeatureMax è:  dataplus_clicks  con  0.3179509149886774  \n",
    "    FeatureMax è:  assessment_type  con  0.3084644103066283\n",
    "\n",
    "2:\n",
    "    FeatureMax è:  region  con  0.31807332150070383  \n",
    "FeatureMin è:  assessment_type  con  0.30803598751453576\n",
    "\n",
    "3:\n",
    "    FeatureMax è:  dualpane_clicks  con  0.3181957280127303  \n",
    "FeatureMin è:  assessment_type  con  0.30803598751453576\n",
    "\n",
    "4:\n",
    "    FeatureMax è:  disability  con  0.3182263296407369  \n",
    "FeatureMin è:  assessment_type  con  0.30806658914254237"
   ]
  },
  {
   "cell_type": "markdown",
   "metadata": {},
   "source": [
    "ROUND 3\n",
    "\n",
    "1:FeatureMax è:  studied_credits  con  0.3115245731072893  \n",
    "FeatureMin è:  assessment_type  con  0.3017014505171675\n",
    "\n",
    "2:FeatureMax è:  submission_delay  con  0.3123508170634678  \n",
    "FeatureMin è:  assessment_type  con  0.3034151416855377\n",
    "\n"
   ]
  },
  {
   "cell_type": "markdown",
   "metadata": {},
   "source": [
    "HYPOTHESIS FOR USEFUL FEATURES:\n",
    "\n",
    "-assessment_type\n",
    "\n",
    "-highest education\n",
    "\n",
    "-weight"
   ]
  },
  {
   "cell_type": "markdown",
   "metadata": {},
   "source": [
    "\n",
    "\n",
    "\n",
    "\n",
    "\n",
    "\n",
    "\n",
    "\n",
    "\n",
    "\n",
    "\n",
    "\n",
    "IDEAS\n",
    "\n",
    "show a map of most influential features compared to grades"
   ]
  },
  {
   "cell_type": "markdown",
   "metadata": {},
   "source": []
  }
 ],
 "metadata": {
  "kernelspec": {
   "display_name": "base",
   "language": "python",
   "name": "python3"
  },
  "language_info": {
   "codemirror_mode": {
    "name": "ipython",
    "version": 3
   },
   "file_extension": ".py",
   "mimetype": "text/x-python",
   "name": "python",
   "nbconvert_exporter": "python",
   "pygments_lexer": "ipython3",
   "version": "3.11.4"
  }
 },
 "nbformat": 4,
 "nbformat_minor": 2
}
