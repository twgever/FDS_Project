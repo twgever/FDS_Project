{
 "cells": [
  {
   "cell_type": "markdown",
   "metadata": {},
   "source": [
    "### Neural Networks"
   ]
  },
  {
   "cell_type": "code",
   "execution_count": 3,
   "metadata": {},
   "outputs": [],
   "source": [
    "import os\n",
    "\n",
    "import pandas as pd\n",
    "import numpy as np\n",
    "import matplotlib as mlp\n",
    "import matplotlib.pyplot as plt\n",
    "import seaborn as sb\n",
    "from sklearn.model_selection import train_test_split\n",
    "import sklearn.metrics as metrics\n",
    "\n",
    "from torch.utils.data import Dataset, DataLoader\n",
    "\n",
    "import torch\n",
    "import torch.nn as nn\n",
    "import torch.optim as optim"
   ]
  },
  {
   "cell_type": "code",
   "execution_count": 4,
   "metadata": {},
   "outputs": [],
   "source": [
    "device = \"cuda\" if torch.cuda.is_available() else \"cpu\""
   ]
  },
  {
   "cell_type": "markdown",
   "metadata": {},
   "source": [
    "### With Feature Engineering"
   ]
  },
  {
   "cell_type": "markdown",
   "metadata": {},
   "source": [
    "Feature engineering using the following [link](https://www.kaggle.com/code/devassaxd/student-performance-prediction-complete-analysis)"
   ]
  },
  {
   "cell_type": "code",
   "execution_count": 35,
   "metadata": {},
   "outputs": [],
   "source": [
    "studInfo=pd.read_csv(\"data/studentInfo.csv\")\n",
    "assessments=pd.read_csv(\"data/assessments.csv\")\n",
    "studAss=pd.read_csv(\"data/studentAssessment.csv\")\n",
    "studVle=pd.read_csv(\"data/studentVle.csv\")\n",
    "vle=pd.read_csv(\"data/vle.csv\")"
   ]
  },
  {
   "cell_type": "markdown",
   "metadata": {},
   "source": [
    "#### Assessments\n",
    "The performance in each assessement is a good indicator of the students' knowledge of the course and, as it composes the grade for the final evaluation, it's interesting to make it a feature in the final model. But, as there are many different courses, each with a different structure, it's unfeasible to create a feature for each assessment. In order to include the assessments, we will build 2 features: One of them is the final grade given by the score and the weight of each assessment. The other is a pass rate, created on the premise that a student must get at least 40% score on an assessment to pass it, calculating the percentage of assessments the student sucessfully passed. We also will split final exams from the other assessments, given their status and participation in the final evaluation is different from the other assessments."
   ]
  },
  {
   "cell_type": "code",
   "execution_count": 36,
   "metadata": {},
   "outputs": [
    {
     "data": {
      "text/html": [
       "<div>\n",
       "<style scoped>\n",
       "    .dataframe tbody tr th:only-of-type {\n",
       "        vertical-align: middle;\n",
       "    }\n",
       "\n",
       "    .dataframe tbody tr th {\n",
       "        vertical-align: top;\n",
       "    }\n",
       "\n",
       "    .dataframe thead th {\n",
       "        text-align: right;\n",
       "    }\n",
       "</style>\n",
       "<table border=\"1\" class=\"dataframe\">\n",
       "  <thead>\n",
       "    <tr style=\"text-align: right;\">\n",
       "      <th></th>\n",
       "      <th>code_module</th>\n",
       "      <th>code_presentation</th>\n",
       "      <th>id_assessment</th>\n",
       "    </tr>\n",
       "  </thead>\n",
       "  <tbody>\n",
       "    <tr>\n",
       "      <th>0</th>\n",
       "      <td>AAA</td>\n",
       "      <td>2013J</td>\n",
       "      <td>5</td>\n",
       "    </tr>\n",
       "    <tr>\n",
       "      <th>1</th>\n",
       "      <td>AAA</td>\n",
       "      <td>2014J</td>\n",
       "      <td>5</td>\n",
       "    </tr>\n",
       "    <tr>\n",
       "      <th>2</th>\n",
       "      <td>BBB</td>\n",
       "      <td>2013B</td>\n",
       "      <td>11</td>\n",
       "    </tr>\n",
       "    <tr>\n",
       "      <th>3</th>\n",
       "      <td>BBB</td>\n",
       "      <td>2013J</td>\n",
       "      <td>11</td>\n",
       "    </tr>\n",
       "    <tr>\n",
       "      <th>4</th>\n",
       "      <td>BBB</td>\n",
       "      <td>2014B</td>\n",
       "      <td>11</td>\n",
       "    </tr>\n",
       "  </tbody>\n",
       "</table>\n",
       "</div>"
      ],
      "text/plain": [
       "  code_module code_presentation  id_assessment\n",
       "0         AAA             2013J              5\n",
       "1         AAA             2014J              5\n",
       "2         BBB             2013B             11\n",
       "3         BBB             2013J             11\n",
       "4         BBB             2014B             11"
      ]
     },
     "execution_count": 36,
     "metadata": {},
     "output_type": "execute_result"
    }
   ],
   "source": [
    "exams=assessments[assessments[\"assessment_type\"]==\"Exam\"]\n",
    "others=assessments[assessments[\"assessment_type\"]!=\"Exam\"]\n",
    "amounts=others.groupby([\"code_module\",\"code_presentation\"]).count()[\"id_assessment\"] \n",
    "amounts=amounts.reset_index()\n",
    "amounts.head()"
   ]
  },
  {
   "cell_type": "code",
   "execution_count": 37,
   "metadata": {},
   "outputs": [],
   "source": [
    "#Function to determine whether a student passed a given assessment\n",
    "def pass_fail(grade):\n",
    "    if grade>=40:\n",
    "        return True\n",
    "    else:\n",
    "        return False\n",
    "#Creating the stud_ass dataframe to join infos about the assessment weights and their respective grades\n",
    "stud_ass=pd.merge(studAss,others,how=\"inner\",on=[\"id_assessment\"])\n",
    "stud_ass[\"pass\"]=stud_ass[\"score\"].apply(pass_fail)\n",
    "stud_ass[\"weighted_grade\"]=stud_ass[\"score\"]*stud_ass[\"weight\"]/100"
   ]
  },
  {
   "cell_type": "code",
   "execution_count": 38,
   "metadata": {},
   "outputs": [
    {
     "data": {
      "text/html": [
       "<div>\n",
       "<style scoped>\n",
       "    .dataframe tbody tr th:only-of-type {\n",
       "        vertical-align: middle;\n",
       "    }\n",
       "\n",
       "    .dataframe tbody tr th {\n",
       "        vertical-align: top;\n",
       "    }\n",
       "\n",
       "    .dataframe thead th {\n",
       "        text-align: right;\n",
       "    }\n",
       "</style>\n",
       "<table border=\"1\" class=\"dataframe\">\n",
       "  <thead>\n",
       "    <tr style=\"text-align: right;\">\n",
       "      <th></th>\n",
       "      <th>id_student</th>\n",
       "      <th>code_module</th>\n",
       "      <th>code_presentation</th>\n",
       "      <th>weighted_grade</th>\n",
       "    </tr>\n",
       "  </thead>\n",
       "  <tbody>\n",
       "    <tr>\n",
       "      <th>0</th>\n",
       "      <td>6516</td>\n",
       "      <td>AAA</td>\n",
       "      <td>2014J</td>\n",
       "      <td>63.50</td>\n",
       "    </tr>\n",
       "    <tr>\n",
       "      <th>1</th>\n",
       "      <td>8462</td>\n",
       "      <td>DDD</td>\n",
       "      <td>2013J</td>\n",
       "      <td>34.90</td>\n",
       "    </tr>\n",
       "    <tr>\n",
       "      <th>2</th>\n",
       "      <td>8462</td>\n",
       "      <td>DDD</td>\n",
       "      <td>2014J</td>\n",
       "      <td>43.00</td>\n",
       "    </tr>\n",
       "    <tr>\n",
       "      <th>3</th>\n",
       "      <td>11391</td>\n",
       "      <td>AAA</td>\n",
       "      <td>2013J</td>\n",
       "      <td>82.40</td>\n",
       "    </tr>\n",
       "    <tr>\n",
       "      <th>4</th>\n",
       "      <td>23629</td>\n",
       "      <td>BBB</td>\n",
       "      <td>2013B</td>\n",
       "      <td>16.69</td>\n",
       "    </tr>\n",
       "  </tbody>\n",
       "</table>\n",
       "</div>"
      ],
      "text/plain": [
       "   id_student code_module code_presentation  weighted_grade\n",
       "0        6516         AAA             2014J           63.50\n",
       "1        8462         DDD             2013J           34.90\n",
       "2        8462         DDD             2014J           43.00\n",
       "3       11391         AAA             2013J           82.40\n",
       "4       23629         BBB             2013B           16.69"
      ]
     },
     "execution_count": 38,
     "metadata": {},
     "output_type": "execute_result"
    }
   ],
   "source": [
    "#Final assessment average per student per module\n",
    "avg_grade=stud_ass.groupby([\"id_student\",\"code_module\",\"code_presentation\"]).sum()[\"weighted_grade\"].reset_index()\n",
    "avg_grade.head()"
   ]
  },
  {
   "cell_type": "code",
   "execution_count": 39,
   "metadata": {},
   "outputs": [
    {
     "data": {
      "text/html": [
       "<div>\n",
       "<style scoped>\n",
       "    .dataframe tbody tr th:only-of-type {\n",
       "        vertical-align: middle;\n",
       "    }\n",
       "\n",
       "    .dataframe tbody tr th {\n",
       "        vertical-align: top;\n",
       "    }\n",
       "\n",
       "    .dataframe thead th {\n",
       "        text-align: right;\n",
       "    }\n",
       "</style>\n",
       "<table border=\"1\" class=\"dataframe\">\n",
       "  <thead>\n",
       "    <tr style=\"text-align: right;\">\n",
       "      <th></th>\n",
       "      <th>id_student</th>\n",
       "      <th>code_module</th>\n",
       "      <th>code_presentation</th>\n",
       "      <th>pass_rate</th>\n",
       "    </tr>\n",
       "  </thead>\n",
       "  <tbody>\n",
       "    <tr>\n",
       "      <th>0</th>\n",
       "      <td>6516</td>\n",
       "      <td>AAA</td>\n",
       "      <td>2014J</td>\n",
       "      <td>1.000000</td>\n",
       "    </tr>\n",
       "    <tr>\n",
       "      <th>1</th>\n",
       "      <td>8462</td>\n",
       "      <td>DDD</td>\n",
       "      <td>2013J</td>\n",
       "      <td>0.500000</td>\n",
       "    </tr>\n",
       "    <tr>\n",
       "      <th>2</th>\n",
       "      <td>8462</td>\n",
       "      <td>DDD</td>\n",
       "      <td>2014J</td>\n",
       "      <td>0.666667</td>\n",
       "    </tr>\n",
       "    <tr>\n",
       "      <th>3</th>\n",
       "      <td>11391</td>\n",
       "      <td>AAA</td>\n",
       "      <td>2013J</td>\n",
       "      <td>1.000000</td>\n",
       "    </tr>\n",
       "    <tr>\n",
       "      <th>4</th>\n",
       "      <td>23629</td>\n",
       "      <td>BBB</td>\n",
       "      <td>2013B</td>\n",
       "      <td>0.363636</td>\n",
       "    </tr>\n",
       "  </tbody>\n",
       "</table>\n",
       "</div>"
      ],
      "text/plain": [
       "   id_student code_module code_presentation  pass_rate\n",
       "0        6516         AAA             2014J   1.000000\n",
       "1        8462         DDD             2013J   0.500000\n",
       "2        8462         DDD             2014J   0.666667\n",
       "3       11391         AAA             2013J   1.000000\n",
       "4       23629         BBB             2013B   0.363636"
      ]
     },
     "execution_count": 39,
     "metadata": {},
     "output_type": "execute_result"
    }
   ],
   "source": [
    "#Pass rate per student per module\n",
    "pass_rate=pd.merge((stud_ass[stud_ass[\"pass\"]==True].groupby([\"id_student\",\"code_module\",\"code_presentation\"]).count()[\"pass\"]).reset_index(),amounts,how=\"left\",on=[\"code_module\",\"code_presentation\"])\n",
    "pass_rate[\"pass_rate\"]=pass_rate[\"pass\"]/pass_rate[\"id_assessment\"]\n",
    "pass_rate.drop([\"pass\",\"id_assessment\"], axis=1,inplace=True)\n",
    "pass_rate.head()"
   ]
  },
  {
   "cell_type": "code",
   "execution_count": 40,
   "metadata": {},
   "outputs": [
    {
     "data": {
      "text/html": [
       "<div>\n",
       "<style scoped>\n",
       "    .dataframe tbody tr th:only-of-type {\n",
       "        vertical-align: middle;\n",
       "    }\n",
       "\n",
       "    .dataframe tbody tr th {\n",
       "        vertical-align: top;\n",
       "    }\n",
       "\n",
       "    .dataframe thead th {\n",
       "        text-align: right;\n",
       "    }\n",
       "</style>\n",
       "<table border=\"1\" class=\"dataframe\">\n",
       "  <thead>\n",
       "    <tr style=\"text-align: right;\">\n",
       "      <th></th>\n",
       "      <th>id_student</th>\n",
       "      <th>code_module</th>\n",
       "      <th>code_presentation</th>\n",
       "      <th>exam_score</th>\n",
       "    </tr>\n",
       "  </thead>\n",
       "  <tbody>\n",
       "    <tr>\n",
       "      <th>0</th>\n",
       "      <td>558914</td>\n",
       "      <td>CCC</td>\n",
       "      <td>2014B</td>\n",
       "      <td>32.0</td>\n",
       "    </tr>\n",
       "    <tr>\n",
       "      <th>1</th>\n",
       "      <td>559706</td>\n",
       "      <td>CCC</td>\n",
       "      <td>2014B</td>\n",
       "      <td>78.0</td>\n",
       "    </tr>\n",
       "    <tr>\n",
       "      <th>2</th>\n",
       "      <td>559770</td>\n",
       "      <td>CCC</td>\n",
       "      <td>2014B</td>\n",
       "      <td>54.0</td>\n",
       "    </tr>\n",
       "    <tr>\n",
       "      <th>3</th>\n",
       "      <td>560114</td>\n",
       "      <td>CCC</td>\n",
       "      <td>2014B</td>\n",
       "      <td>64.0</td>\n",
       "    </tr>\n",
       "    <tr>\n",
       "      <th>4</th>\n",
       "      <td>560311</td>\n",
       "      <td>CCC</td>\n",
       "      <td>2014B</td>\n",
       "      <td>100.0</td>\n",
       "    </tr>\n",
       "  </tbody>\n",
       "</table>\n",
       "</div>"
      ],
      "text/plain": [
       "   id_student code_module code_presentation  exam_score\n",
       "0      558914         CCC             2014B        32.0\n",
       "1      559706         CCC             2014B        78.0\n",
       "2      559770         CCC             2014B        54.0\n",
       "3      560114         CCC             2014B        64.0\n",
       "4      560311         CCC             2014B       100.0"
      ]
     },
     "execution_count": 40,
     "metadata": {},
     "output_type": "execute_result"
    }
   ],
   "source": [
    "#Final exam scores\n",
    "stud_exams=pd.merge(studAss,exams,how=\"inner\",on=[\"id_assessment\"])\n",
    "stud_exams[\"exam_score\"]=stud_exams[\"score\"]\n",
    "stud_exams.drop([\"id_assessment\",\"date_submitted\",\"is_banked\", \"score\",\"assessment_type\",\"date\",\"weight\"],axis=1,inplace=True)\n",
    "stud_exams.head()"
   ]
  },
  {
   "cell_type": "markdown",
   "metadata": {},
   "source": [
    "#### VLE\n",
    "The datasets referring to the VLE (Virtual Learning Environment) contain the interaction feed of the students with the content available for reference throughout the duration of the period. From this data we can infer how in touch a student was with their subjects, whether they studied it on a solid basis and how they used the content."
   ]
  },
  {
   "cell_type": "code",
   "execution_count": 41,
   "metadata": {},
   "outputs": [
    {
     "data": {
      "text/html": [
       "<div>\n",
       "<style scoped>\n",
       "    .dataframe tbody tr th:only-of-type {\n",
       "        vertical-align: middle;\n",
       "    }\n",
       "\n",
       "    .dataframe tbody tr th {\n",
       "        vertical-align: top;\n",
       "    }\n",
       "\n",
       "    .dataframe thead th {\n",
       "        text-align: right;\n",
       "    }\n",
       "</style>\n",
       "<table border=\"1\" class=\"dataframe\">\n",
       "  <thead>\n",
       "    <tr style=\"text-align: right;\">\n",
       "      <th></th>\n",
       "      <th>id_site</th>\n",
       "      <th>code_module</th>\n",
       "      <th>code_presentation</th>\n",
       "      <th>activity_type</th>\n",
       "      <th>week_from</th>\n",
       "      <th>week_to</th>\n",
       "    </tr>\n",
       "  </thead>\n",
       "  <tbody>\n",
       "    <tr>\n",
       "      <th>0</th>\n",
       "      <td>546943</td>\n",
       "      <td>AAA</td>\n",
       "      <td>2013J</td>\n",
       "      <td>resource</td>\n",
       "      <td>NaN</td>\n",
       "      <td>NaN</td>\n",
       "    </tr>\n",
       "    <tr>\n",
       "      <th>1</th>\n",
       "      <td>546712</td>\n",
       "      <td>AAA</td>\n",
       "      <td>2013J</td>\n",
       "      <td>oucontent</td>\n",
       "      <td>NaN</td>\n",
       "      <td>NaN</td>\n",
       "    </tr>\n",
       "    <tr>\n",
       "      <th>2</th>\n",
       "      <td>546998</td>\n",
       "      <td>AAA</td>\n",
       "      <td>2013J</td>\n",
       "      <td>resource</td>\n",
       "      <td>NaN</td>\n",
       "      <td>NaN</td>\n",
       "    </tr>\n",
       "    <tr>\n",
       "      <th>3</th>\n",
       "      <td>546888</td>\n",
       "      <td>AAA</td>\n",
       "      <td>2013J</td>\n",
       "      <td>url</td>\n",
       "      <td>NaN</td>\n",
       "      <td>NaN</td>\n",
       "    </tr>\n",
       "    <tr>\n",
       "      <th>4</th>\n",
       "      <td>547035</td>\n",
       "      <td>AAA</td>\n",
       "      <td>2013J</td>\n",
       "      <td>resource</td>\n",
       "      <td>NaN</td>\n",
       "      <td>NaN</td>\n",
       "    </tr>\n",
       "    <tr>\n",
       "      <th>...</th>\n",
       "      <td>...</td>\n",
       "      <td>...</td>\n",
       "      <td>...</td>\n",
       "      <td>...</td>\n",
       "      <td>...</td>\n",
       "      <td>...</td>\n",
       "    </tr>\n",
       "    <tr>\n",
       "      <th>6359</th>\n",
       "      <td>897063</td>\n",
       "      <td>GGG</td>\n",
       "      <td>2014J</td>\n",
       "      <td>resource</td>\n",
       "      <td>NaN</td>\n",
       "      <td>NaN</td>\n",
       "    </tr>\n",
       "    <tr>\n",
       "      <th>6360</th>\n",
       "      <td>897109</td>\n",
       "      <td>GGG</td>\n",
       "      <td>2014J</td>\n",
       "      <td>resource</td>\n",
       "      <td>NaN</td>\n",
       "      <td>NaN</td>\n",
       "    </tr>\n",
       "    <tr>\n",
       "      <th>6361</th>\n",
       "      <td>896965</td>\n",
       "      <td>GGG</td>\n",
       "      <td>2014J</td>\n",
       "      <td>oucontent</td>\n",
       "      <td>NaN</td>\n",
       "      <td>NaN</td>\n",
       "    </tr>\n",
       "    <tr>\n",
       "      <th>6362</th>\n",
       "      <td>897060</td>\n",
       "      <td>GGG</td>\n",
       "      <td>2014J</td>\n",
       "      <td>resource</td>\n",
       "      <td>NaN</td>\n",
       "      <td>NaN</td>\n",
       "    </tr>\n",
       "    <tr>\n",
       "      <th>6363</th>\n",
       "      <td>897100</td>\n",
       "      <td>GGG</td>\n",
       "      <td>2014J</td>\n",
       "      <td>resource</td>\n",
       "      <td>NaN</td>\n",
       "      <td>NaN</td>\n",
       "    </tr>\n",
       "  </tbody>\n",
       "</table>\n",
       "<p>6364 rows × 6 columns</p>\n",
       "</div>"
      ],
      "text/plain": [
       "      id_site code_module code_presentation activity_type  week_from  week_to\n",
       "0      546943         AAA             2013J      resource        NaN      NaN\n",
       "1      546712         AAA             2013J     oucontent        NaN      NaN\n",
       "2      546998         AAA             2013J      resource        NaN      NaN\n",
       "3      546888         AAA             2013J           url        NaN      NaN\n",
       "4      547035         AAA             2013J      resource        NaN      NaN\n",
       "...       ...         ...               ...           ...        ...      ...\n",
       "6359   897063         GGG             2014J      resource        NaN      NaN\n",
       "6360   897109         GGG             2014J      resource        NaN      NaN\n",
       "6361   896965         GGG             2014J     oucontent        NaN      NaN\n",
       "6362   897060         GGG             2014J      resource        NaN      NaN\n",
       "6363   897100         GGG             2014J      resource        NaN      NaN\n",
       "\n",
       "[6364 rows x 6 columns]"
      ]
     },
     "execution_count": 41,
     "metadata": {},
     "output_type": "execute_result"
    }
   ],
   "source": [
    "vle"
   ]
  },
  {
   "cell_type": "code",
   "execution_count": 42,
   "metadata": {},
   "outputs": [
    {
     "data": {
      "text/html": [
       "<div>\n",
       "<style scoped>\n",
       "    .dataframe tbody tr th:only-of-type {\n",
       "        vertical-align: middle;\n",
       "    }\n",
       "\n",
       "    .dataframe tbody tr th {\n",
       "        vertical-align: top;\n",
       "    }\n",
       "\n",
       "    .dataframe thead th {\n",
       "        text-align: right;\n",
       "    }\n",
       "</style>\n",
       "<table border=\"1\" class=\"dataframe\">\n",
       "  <thead>\n",
       "    <tr style=\"text-align: right;\">\n",
       "      <th></th>\n",
       "      <th>id_site</th>\n",
       "      <th>code_module</th>\n",
       "      <th>code_presentation</th>\n",
       "      <th>activity_type</th>\n",
       "      <th>week_from</th>\n",
       "      <th>week_to</th>\n",
       "    </tr>\n",
       "  </thead>\n",
       "  <tbody>\n",
       "    <tr>\n",
       "      <th>113</th>\n",
       "      <td>546732</td>\n",
       "      <td>AAA</td>\n",
       "      <td>2013J</td>\n",
       "      <td>oucontent</td>\n",
       "      <td>2.0</td>\n",
       "      <td>2.0</td>\n",
       "    </tr>\n",
       "    <tr>\n",
       "      <th>198</th>\n",
       "      <td>546719</td>\n",
       "      <td>AAA</td>\n",
       "      <td>2013J</td>\n",
       "      <td>oucontent</td>\n",
       "      <td>1.0</td>\n",
       "      <td>1.0</td>\n",
       "    </tr>\n",
       "    <tr>\n",
       "      <th>210</th>\n",
       "      <td>546681</td>\n",
       "      <td>AAA</td>\n",
       "      <td>2013J</td>\n",
       "      <td>oucontent</td>\n",
       "      <td>1.0</td>\n",
       "      <td>1.0</td>\n",
       "    </tr>\n",
       "    <tr>\n",
       "      <th>264</th>\n",
       "      <td>877040</td>\n",
       "      <td>AAA</td>\n",
       "      <td>2014J</td>\n",
       "      <td>oucontent</td>\n",
       "      <td>2.0</td>\n",
       "      <td>2.0</td>\n",
       "    </tr>\n",
       "    <tr>\n",
       "      <th>323</th>\n",
       "      <td>877045</td>\n",
       "      <td>AAA</td>\n",
       "      <td>2014J</td>\n",
       "      <td>oucontent</td>\n",
       "      <td>1.0</td>\n",
       "      <td>1.0</td>\n",
       "    </tr>\n",
       "    <tr>\n",
       "      <th>...</th>\n",
       "      <td>...</td>\n",
       "      <td>...</td>\n",
       "      <td>...</td>\n",
       "      <td>...</td>\n",
       "      <td>...</td>\n",
       "      <td>...</td>\n",
       "    </tr>\n",
       "    <tr>\n",
       "      <th>6243</th>\n",
       "      <td>798728</td>\n",
       "      <td>GGG</td>\n",
       "      <td>2014B</td>\n",
       "      <td>resource</td>\n",
       "      <td>1.0</td>\n",
       "      <td>1.0</td>\n",
       "    </tr>\n",
       "    <tr>\n",
       "      <th>6266</th>\n",
       "      <td>897051</td>\n",
       "      <td>GGG</td>\n",
       "      <td>2014J</td>\n",
       "      <td>resource</td>\n",
       "      <td>2.0</td>\n",
       "      <td>2.0</td>\n",
       "    </tr>\n",
       "    <tr>\n",
       "      <th>6285</th>\n",
       "      <td>897121</td>\n",
       "      <td>GGG</td>\n",
       "      <td>2014J</td>\n",
       "      <td>resource</td>\n",
       "      <td>1.0</td>\n",
       "      <td>1.0</td>\n",
       "    </tr>\n",
       "    <tr>\n",
       "      <th>6304</th>\n",
       "      <td>897050</td>\n",
       "      <td>GGG</td>\n",
       "      <td>2014J</td>\n",
       "      <td>resource</td>\n",
       "      <td>1.0</td>\n",
       "      <td>1.0</td>\n",
       "    </tr>\n",
       "    <tr>\n",
       "      <th>6335</th>\n",
       "      <td>897052</td>\n",
       "      <td>GGG</td>\n",
       "      <td>2014J</td>\n",
       "      <td>resource</td>\n",
       "      <td>3.0</td>\n",
       "      <td>3.0</td>\n",
       "    </tr>\n",
       "  </tbody>\n",
       "</table>\n",
       "<p>1121 rows × 6 columns</p>\n",
       "</div>"
      ],
      "text/plain": [
       "      id_site code_module code_presentation activity_type  week_from  week_to\n",
       "113    546732         AAA             2013J     oucontent        2.0      2.0\n",
       "198    546719         AAA             2013J     oucontent        1.0      1.0\n",
       "210    546681         AAA             2013J     oucontent        1.0      1.0\n",
       "264    877040         AAA             2014J     oucontent        2.0      2.0\n",
       "323    877045         AAA             2014J     oucontent        1.0      1.0\n",
       "...       ...         ...               ...           ...        ...      ...\n",
       "6243   798728         GGG             2014B      resource        1.0      1.0\n",
       "6266   897051         GGG             2014J      resource        2.0      2.0\n",
       "6285   897121         GGG             2014J      resource        1.0      1.0\n",
       "6304   897050         GGG             2014J      resource        1.0      1.0\n",
       "6335   897052         GGG             2014J      resource        3.0      3.0\n",
       "\n",
       "[1121 rows x 6 columns]"
      ]
     },
     "execution_count": 42,
     "metadata": {},
     "output_type": "execute_result"
    }
   ],
   "source": [
    "vle[~vle[\"week_from\"].isna()]\n",
    "#Only 1121 from the 6364 entries have the reference week for the materials (the week in which they would be used in course.)\n",
    "#With this in mind, the construction of a metric to track study commitment becomes impractical"
   ]
  },
  {
   "cell_type": "code",
   "execution_count": 43,
   "metadata": {},
   "outputs": [
    {
     "data": {
      "text/html": [
       "<div>\n",
       "<style scoped>\n",
       "    .dataframe tbody tr th:only-of-type {\n",
       "        vertical-align: middle;\n",
       "    }\n",
       "\n",
       "    .dataframe tbody tr th {\n",
       "        vertical-align: top;\n",
       "    }\n",
       "\n",
       "    .dataframe thead th {\n",
       "        text-align: right;\n",
       "    }\n",
       "</style>\n",
       "<table border=\"1\" class=\"dataframe\">\n",
       "  <thead>\n",
       "    <tr style=\"text-align: right;\">\n",
       "      <th></th>\n",
       "      <th>code_module</th>\n",
       "      <th>code_presentation</th>\n",
       "      <th>id_student</th>\n",
       "      <th>id_site</th>\n",
       "      <th>date</th>\n",
       "      <th>sum_click</th>\n",
       "    </tr>\n",
       "  </thead>\n",
       "  <tbody>\n",
       "    <tr>\n",
       "      <th>0</th>\n",
       "      <td>AAA</td>\n",
       "      <td>2013J</td>\n",
       "      <td>28400</td>\n",
       "      <td>546652</td>\n",
       "      <td>-10</td>\n",
       "      <td>4</td>\n",
       "    </tr>\n",
       "    <tr>\n",
       "      <th>1</th>\n",
       "      <td>AAA</td>\n",
       "      <td>2013J</td>\n",
       "      <td>28400</td>\n",
       "      <td>546652</td>\n",
       "      <td>-10</td>\n",
       "      <td>1</td>\n",
       "    </tr>\n",
       "    <tr>\n",
       "      <th>2</th>\n",
       "      <td>AAA</td>\n",
       "      <td>2013J</td>\n",
       "      <td>28400</td>\n",
       "      <td>546652</td>\n",
       "      <td>-10</td>\n",
       "      <td>1</td>\n",
       "    </tr>\n",
       "    <tr>\n",
       "      <th>3</th>\n",
       "      <td>AAA</td>\n",
       "      <td>2013J</td>\n",
       "      <td>28400</td>\n",
       "      <td>546614</td>\n",
       "      <td>-10</td>\n",
       "      <td>11</td>\n",
       "    </tr>\n",
       "    <tr>\n",
       "      <th>4</th>\n",
       "      <td>AAA</td>\n",
       "      <td>2013J</td>\n",
       "      <td>28400</td>\n",
       "      <td>546714</td>\n",
       "      <td>-10</td>\n",
       "      <td>1</td>\n",
       "    </tr>\n",
       "  </tbody>\n",
       "</table>\n",
       "</div>"
      ],
      "text/plain": [
       "  code_module code_presentation  id_student  id_site  date  sum_click\n",
       "0         AAA             2013J       28400   546652   -10          4\n",
       "1         AAA             2013J       28400   546652   -10          1\n",
       "2         AAA             2013J       28400   546652   -10          1\n",
       "3         AAA             2013J       28400   546614   -10         11\n",
       "4         AAA             2013J       28400   546714   -10          1"
      ]
     },
     "execution_count": 43,
     "metadata": {},
     "output_type": "execute_result"
    }
   ],
   "source": [
    "studVle.head()"
   ]
  },
  {
   "cell_type": "code",
   "execution_count": 44,
   "metadata": {},
   "outputs": [
    {
     "data": {
      "text/html": [
       "<div>\n",
       "<style scoped>\n",
       "    .dataframe tbody tr th:only-of-type {\n",
       "        vertical-align: middle;\n",
       "    }\n",
       "\n",
       "    .dataframe tbody tr th {\n",
       "        vertical-align: top;\n",
       "    }\n",
       "\n",
       "    .dataframe thead th {\n",
       "        text-align: right;\n",
       "    }\n",
       "</style>\n",
       "<table border=\"1\" class=\"dataframe\">\n",
       "  <thead>\n",
       "    <tr style=\"text-align: right;\">\n",
       "      <th></th>\n",
       "      <th>id_student</th>\n",
       "      <th>id_site</th>\n",
       "      <th>code_module</th>\n",
       "      <th>code_presentation</th>\n",
       "      <th>date</th>\n",
       "      <th>sum_click</th>\n",
       "    </tr>\n",
       "  </thead>\n",
       "  <tbody>\n",
       "    <tr>\n",
       "      <th>0</th>\n",
       "      <td>6516</td>\n",
       "      <td>877011</td>\n",
       "      <td>AAA</td>\n",
       "      <td>2014J</td>\n",
       "      <td>210.333333</td>\n",
       "      <td>3.833333</td>\n",
       "    </tr>\n",
       "    <tr>\n",
       "      <th>1</th>\n",
       "      <td>6516</td>\n",
       "      <td>877012</td>\n",
       "      <td>AAA</td>\n",
       "      <td>2014J</td>\n",
       "      <td>90.833333</td>\n",
       "      <td>2.310606</td>\n",
       "    </tr>\n",
       "    <tr>\n",
       "      <th>2</th>\n",
       "      <td>6516</td>\n",
       "      <td>877015</td>\n",
       "      <td>AAA</td>\n",
       "      <td>2014J</td>\n",
       "      <td>113.461538</td>\n",
       "      <td>2.000000</td>\n",
       "    </tr>\n",
       "    <tr>\n",
       "      <th>3</th>\n",
       "      <td>6516</td>\n",
       "      <td>877023</td>\n",
       "      <td>AAA</td>\n",
       "      <td>2014J</td>\n",
       "      <td>122.666667</td>\n",
       "      <td>2.000000</td>\n",
       "    </tr>\n",
       "    <tr>\n",
       "      <th>4</th>\n",
       "      <td>6516</td>\n",
       "      <td>877025</td>\n",
       "      <td>AAA</td>\n",
       "      <td>2014J</td>\n",
       "      <td>41.142857</td>\n",
       "      <td>4.333333</td>\n",
       "    </tr>\n",
       "  </tbody>\n",
       "</table>\n",
       "</div>"
      ],
      "text/plain": [
       "   id_student  id_site code_module code_presentation        date  sum_click\n",
       "0        6516   877011         AAA             2014J  210.333333   3.833333\n",
       "1        6516   877012         AAA             2014J   90.833333   2.310606\n",
       "2        6516   877015         AAA             2014J  113.461538   2.000000\n",
       "3        6516   877023         AAA             2014J  122.666667   2.000000\n",
       "4        6516   877025         AAA             2014J   41.142857   4.333333"
      ]
     },
     "execution_count": 44,
     "metadata": {},
     "output_type": "execute_result"
    }
   ],
   "source": [
    "#Here we can track the average time after the start of the course the student took to use the materials\n",
    "#and the average amount of clicks per material\n",
    "avg_per_site=studVle.groupby([\"id_student\",\"id_site\",\"code_module\",\"code_presentation\"]).mean().reset_index()\n",
    "avg_per_site.head()"
   ]
  },
  {
   "cell_type": "code",
   "execution_count": 45,
   "metadata": {},
   "outputs": [
    {
     "data": {
      "text/html": [
       "<div>\n",
       "<style scoped>\n",
       "    .dataframe tbody tr th:only-of-type {\n",
       "        vertical-align: middle;\n",
       "    }\n",
       "\n",
       "    .dataframe tbody tr th {\n",
       "        vertical-align: top;\n",
       "    }\n",
       "\n",
       "    .dataframe thead th {\n",
       "        text-align: right;\n",
       "    }\n",
       "</style>\n",
       "<table border=\"1\" class=\"dataframe\">\n",
       "  <thead>\n",
       "    <tr style=\"text-align: right;\">\n",
       "      <th></th>\n",
       "      <th>id_student</th>\n",
       "      <th>code_module</th>\n",
       "      <th>code_presentation</th>\n",
       "      <th>date</th>\n",
       "      <th>sum_click</th>\n",
       "    </tr>\n",
       "  </thead>\n",
       "  <tbody>\n",
       "    <tr>\n",
       "      <th>0</th>\n",
       "      <td>6516</td>\n",
       "      <td>AAA</td>\n",
       "      <td>2014J</td>\n",
       "      <td>105.292573</td>\n",
       "      <td>5.816135</td>\n",
       "    </tr>\n",
       "    <tr>\n",
       "      <th>1</th>\n",
       "      <td>8462</td>\n",
       "      <td>DDD</td>\n",
       "      <td>2013J</td>\n",
       "      <td>38.794704</td>\n",
       "      <td>1.734524</td>\n",
       "    </tr>\n",
       "    <tr>\n",
       "      <th>2</th>\n",
       "      <td>8462</td>\n",
       "      <td>DDD</td>\n",
       "      <td>2014J</td>\n",
       "      <td>10.000000</td>\n",
       "      <td>3.000000</td>\n",
       "    </tr>\n",
       "    <tr>\n",
       "      <th>3</th>\n",
       "      <td>11391</td>\n",
       "      <td>AAA</td>\n",
       "      <td>2013J</td>\n",
       "      <td>111.739069</td>\n",
       "      <td>4.231515</td>\n",
       "    </tr>\n",
       "    <tr>\n",
       "      <th>4</th>\n",
       "      <td>23629</td>\n",
       "      <td>BBB</td>\n",
       "      <td>2013B</td>\n",
       "      <td>33.409632</td>\n",
       "      <td>2.817316</td>\n",
       "    </tr>\n",
       "  </tbody>\n",
       "</table>\n",
       "</div>"
      ],
      "text/plain": [
       "   id_student code_module code_presentation        date  sum_click\n",
       "0        6516         AAA             2014J  105.292573   5.816135\n",
       "1        8462         DDD             2013J   38.794704   1.734524\n",
       "2        8462         DDD             2014J   10.000000   3.000000\n",
       "3       11391         AAA             2013J  111.739069   4.231515\n",
       "4       23629         BBB             2013B   33.409632   2.817316"
      ]
     },
     "execution_count": 45,
     "metadata": {},
     "output_type": "execute_result"
    }
   ],
   "source": [
    "#General average per student per module\n",
    "avg_per_student=avg_per_site.groupby([\"id_student\",\"code_module\",\"code_presentation\"]).mean()[[\"date\",\"sum_click\"]].reset_index()\n",
    "avg_per_student.head()"
   ]
  },
  {
   "cell_type": "markdown",
   "metadata": {},
   "source": [
    "#### StudentInfo\n",
    "\n",
    "The studentInfo table contains various info about the students, but the relevant ones for this analysis are:\n",
    "\n",
    "- The amount of times the student has already tried to finish the module\n",
    "- The students' final result\n",
    "\n",
    "The last one is our interest variable as we build our prediction model"
   ]
  },
  {
   "cell_type": "code",
   "execution_count": 46,
   "metadata": {},
   "outputs": [
    {
     "data": {
      "text/html": [
       "<div>\n",
       "<style scoped>\n",
       "    .dataframe tbody tr th:only-of-type {\n",
       "        vertical-align: middle;\n",
       "    }\n",
       "\n",
       "    .dataframe tbody tr th {\n",
       "        vertical-align: top;\n",
       "    }\n",
       "\n",
       "    .dataframe thead th {\n",
       "        text-align: right;\n",
       "    }\n",
       "</style>\n",
       "<table border=\"1\" class=\"dataframe\">\n",
       "  <thead>\n",
       "    <tr style=\"text-align: right;\">\n",
       "      <th></th>\n",
       "      <th>code_module</th>\n",
       "      <th>code_presentation</th>\n",
       "      <th>id_student</th>\n",
       "      <th>num_of_prev_attempts</th>\n",
       "      <th>final_result</th>\n",
       "    </tr>\n",
       "  </thead>\n",
       "  <tbody>\n",
       "    <tr>\n",
       "      <th>0</th>\n",
       "      <td>AAA</td>\n",
       "      <td>2013J</td>\n",
       "      <td>11391</td>\n",
       "      <td>0</td>\n",
       "      <td>Pass</td>\n",
       "    </tr>\n",
       "    <tr>\n",
       "      <th>1</th>\n",
       "      <td>AAA</td>\n",
       "      <td>2013J</td>\n",
       "      <td>28400</td>\n",
       "      <td>0</td>\n",
       "      <td>Pass</td>\n",
       "    </tr>\n",
       "    <tr>\n",
       "      <th>3</th>\n",
       "      <td>AAA</td>\n",
       "      <td>2013J</td>\n",
       "      <td>31604</td>\n",
       "      <td>0</td>\n",
       "      <td>Pass</td>\n",
       "    </tr>\n",
       "    <tr>\n",
       "      <th>4</th>\n",
       "      <td>AAA</td>\n",
       "      <td>2013J</td>\n",
       "      <td>32885</td>\n",
       "      <td>0</td>\n",
       "      <td>Pass</td>\n",
       "    </tr>\n",
       "    <tr>\n",
       "      <th>5</th>\n",
       "      <td>AAA</td>\n",
       "      <td>2013J</td>\n",
       "      <td>38053</td>\n",
       "      <td>0</td>\n",
       "      <td>Pass</td>\n",
       "    </tr>\n",
       "  </tbody>\n",
       "</table>\n",
       "</div>"
      ],
      "text/plain": [
       "  code_module code_presentation  id_student  num_of_prev_attempts final_result\n",
       "0         AAA             2013J       11391                     0         Pass\n",
       "1         AAA             2013J       28400                     0         Pass\n",
       "3         AAA             2013J       31604                     0         Pass\n",
       "4         AAA             2013J       32885                     0         Pass\n",
       "5         AAA             2013J       38053                     0         Pass"
      ]
     },
     "execution_count": 46,
     "metadata": {},
     "output_type": "execute_result"
    }
   ],
   "source": [
    "#Removing the cases where the student has withdrawn their registration to the module\n",
    "studInfo=studInfo[studInfo[\"final_result\"]!=\"Withdrawn\"]\n",
    "studInfo=studInfo[[\"code_module\",\"code_presentation\",\"id_student\",\"num_of_prev_attempts\",\"final_result\"]]\n",
    "studInfo.head()"
   ]
  },
  {
   "cell_type": "markdown",
   "metadata": {},
   "source": [
    "#### Compiling all relevant tables"
   ]
  },
  {
   "cell_type": "code",
   "execution_count": 47,
   "metadata": {},
   "outputs": [
    {
     "data": {
      "text/html": [
       "<div>\n",
       "<style scoped>\n",
       "    .dataframe tbody tr th:only-of-type {\n",
       "        vertical-align: middle;\n",
       "    }\n",
       "\n",
       "    .dataframe tbody tr th {\n",
       "        vertical-align: top;\n",
       "    }\n",
       "\n",
       "    .dataframe thead th {\n",
       "        text-align: right;\n",
       "    }\n",
       "</style>\n",
       "<table border=\"1\" class=\"dataframe\">\n",
       "  <thead>\n",
       "    <tr style=\"text-align: right;\">\n",
       "      <th></th>\n",
       "      <th>id_student</th>\n",
       "      <th>code_module</th>\n",
       "      <th>code_presentation</th>\n",
       "      <th>weighted_grade</th>\n",
       "      <th>pass_rate</th>\n",
       "      <th>exam_score</th>\n",
       "    </tr>\n",
       "  </thead>\n",
       "  <tbody>\n",
       "    <tr>\n",
       "      <th>0</th>\n",
       "      <td>23698</td>\n",
       "      <td>CCC</td>\n",
       "      <td>2014J</td>\n",
       "      <td>69.97</td>\n",
       "      <td>1.000000</td>\n",
       "      <td>80.0</td>\n",
       "    </tr>\n",
       "    <tr>\n",
       "      <th>1</th>\n",
       "      <td>24213</td>\n",
       "      <td>DDD</td>\n",
       "      <td>2014B</td>\n",
       "      <td>78.40</td>\n",
       "      <td>1.000000</td>\n",
       "      <td>58.0</td>\n",
       "    </tr>\n",
       "    <tr>\n",
       "      <th>2</th>\n",
       "      <td>27116</td>\n",
       "      <td>CCC</td>\n",
       "      <td>2014J</td>\n",
       "      <td>92.02</td>\n",
       "      <td>1.000000</td>\n",
       "      <td>96.0</td>\n",
       "    </tr>\n",
       "    <tr>\n",
       "      <th>3</th>\n",
       "      <td>28046</td>\n",
       "      <td>DDD</td>\n",
       "      <td>2013J</td>\n",
       "      <td>49.90</td>\n",
       "      <td>0.833333</td>\n",
       "      <td>40.0</td>\n",
       "    </tr>\n",
       "    <tr>\n",
       "      <th>4</th>\n",
       "      <td>28787</td>\n",
       "      <td>CCC</td>\n",
       "      <td>2014J</td>\n",
       "      <td>11.98</td>\n",
       "      <td>0.375000</td>\n",
       "      <td>44.0</td>\n",
       "    </tr>\n",
       "  </tbody>\n",
       "</table>\n",
       "</div>"
      ],
      "text/plain": [
       "   id_student code_module code_presentation  weighted_grade  pass_rate  \\\n",
       "0       23698         CCC             2014J           69.97   1.000000   \n",
       "1       24213         DDD             2014B           78.40   1.000000   \n",
       "2       27116         CCC             2014J           92.02   1.000000   \n",
       "3       28046         DDD             2013J           49.90   0.833333   \n",
       "4       28787         CCC             2014J           11.98   0.375000   \n",
       "\n",
       "   exam_score  \n",
       "0        80.0  \n",
       "1        58.0  \n",
       "2        96.0  \n",
       "3        40.0  \n",
       "4        44.0  "
      ]
     },
     "execution_count": 47,
     "metadata": {},
     "output_type": "execute_result"
    }
   ],
   "source": [
    "df_1=pd.merge(avg_grade,pass_rate,how=\"inner\",on=[\"id_student\",\"code_module\",\"code_presentation\"])\n",
    "assessment_info=pd.merge(df_1, stud_exams, how=\"inner\", on=[\"id_student\",\"code_module\",\"code_presentation\"])\n",
    "assessment_info.head()"
   ]
  },
  {
   "cell_type": "code",
   "execution_count": 48,
   "metadata": {},
   "outputs": [
    {
     "data": {
      "text/html": [
       "<div>\n",
       "<style scoped>\n",
       "    .dataframe tbody tr th:only-of-type {\n",
       "        vertical-align: middle;\n",
       "    }\n",
       "\n",
       "    .dataframe tbody tr th {\n",
       "        vertical-align: top;\n",
       "    }\n",
       "\n",
       "    .dataframe thead th {\n",
       "        text-align: right;\n",
       "    }\n",
       "</style>\n",
       "<table border=\"1\" class=\"dataframe\">\n",
       "  <thead>\n",
       "    <tr style=\"text-align: right;\">\n",
       "      <th></th>\n",
       "      <th>num_of_prev_attempts</th>\n",
       "      <th>final_result</th>\n",
       "      <th>weighted_grade</th>\n",
       "      <th>pass_rate</th>\n",
       "      <th>exam_score</th>\n",
       "      <th>date</th>\n",
       "      <th>sum_click</th>\n",
       "    </tr>\n",
       "  </thead>\n",
       "  <tbody>\n",
       "    <tr>\n",
       "      <th>0</th>\n",
       "      <td>0</td>\n",
       "      <td>Distinction</td>\n",
       "      <td>89.65</td>\n",
       "      <td>1.000</td>\n",
       "      <td>94.0</td>\n",
       "      <td>103.457907</td>\n",
       "      <td>2.706754</td>\n",
       "    </tr>\n",
       "    <tr>\n",
       "      <th>1</th>\n",
       "      <td>0</td>\n",
       "      <td>Pass</td>\n",
       "      <td>84.58</td>\n",
       "      <td>1.000</td>\n",
       "      <td>76.0</td>\n",
       "      <td>87.617265</td>\n",
       "      <td>1.539047</td>\n",
       "    </tr>\n",
       "    <tr>\n",
       "      <th>2</th>\n",
       "      <td>0</td>\n",
       "      <td>Pass</td>\n",
       "      <td>51.44</td>\n",
       "      <td>0.625</td>\n",
       "      <td>66.0</td>\n",
       "      <td>49.181286</td>\n",
       "      <td>1.562619</td>\n",
       "    </tr>\n",
       "    <tr>\n",
       "      <th>3</th>\n",
       "      <td>0</td>\n",
       "      <td>Pass</td>\n",
       "      <td>75.13</td>\n",
       "      <td>1.000</td>\n",
       "      <td>50.0</td>\n",
       "      <td>118.698642</td>\n",
       "      <td>2.189217</td>\n",
       "    </tr>\n",
       "    <tr>\n",
       "      <th>4</th>\n",
       "      <td>0</td>\n",
       "      <td>Distinction</td>\n",
       "      <td>93.22</td>\n",
       "      <td>1.000</td>\n",
       "      <td>98.0</td>\n",
       "      <td>75.791987</td>\n",
       "      <td>2.100617</td>\n",
       "    </tr>\n",
       "  </tbody>\n",
       "</table>\n",
       "</div>"
      ],
      "text/plain": [
       "   num_of_prev_attempts final_result  weighted_grade  pass_rate  exam_score  \\\n",
       "0                     0  Distinction           89.65      1.000        94.0   \n",
       "1                     0         Pass           84.58      1.000        76.0   \n",
       "2                     0         Pass           51.44      0.625        66.0   \n",
       "3                     0         Pass           75.13      1.000        50.0   \n",
       "4                     0  Distinction           93.22      1.000        98.0   \n",
       "\n",
       "         date  sum_click  \n",
       "0  103.457907   2.706754  \n",
       "1   87.617265   1.539047  \n",
       "2   49.181286   1.562619  \n",
       "3  118.698642   2.189217  \n",
       "4   75.791987   2.100617  "
      ]
     },
     "execution_count": 48,
     "metadata": {},
     "output_type": "execute_result"
    }
   ],
   "source": [
    "df_2=pd.merge(studInfo,assessment_info,how=\"inner\",on=[\"id_student\",\"code_module\",\"code_presentation\"])\n",
    "final_df=pd.merge(df_2,avg_per_student,how=\"inner\", on=[\"id_student\",\"code_module\",\"code_presentation\"])\n",
    "final_df.drop([\"id_student\",\"code_module\",\"code_presentation\"],axis=1,inplace=True)\n",
    "final_df.head()\n",
    "#The final dataframe only has information relevant to the problem"
   ]
  },
  {
   "cell_type": "markdown",
   "metadata": {},
   "source": [
    "Delete some outliers to have the most uniform dataset possible"
   ]
  },
  {
   "cell_type": "code",
   "execution_count": 49,
   "metadata": {},
   "outputs": [
    {
     "data": {
      "text/html": [
       "<div>\n",
       "<style scoped>\n",
       "    .dataframe tbody tr th:only-of-type {\n",
       "        vertical-align: middle;\n",
       "    }\n",
       "\n",
       "    .dataframe tbody tr th {\n",
       "        vertical-align: top;\n",
       "    }\n",
       "\n",
       "    .dataframe thead th {\n",
       "        text-align: right;\n",
       "    }\n",
       "</style>\n",
       "<table border=\"1\" class=\"dataframe\">\n",
       "  <thead>\n",
       "    <tr style=\"text-align: right;\">\n",
       "      <th></th>\n",
       "      <th>num_of_prev_attempts</th>\n",
       "      <th>final_result</th>\n",
       "      <th>weighted_grade</th>\n",
       "      <th>pass_rate</th>\n",
       "      <th>exam_score</th>\n",
       "      <th>date</th>\n",
       "      <th>sum_click</th>\n",
       "    </tr>\n",
       "  </thead>\n",
       "  <tbody>\n",
       "    <tr>\n",
       "      <th>0</th>\n",
       "      <td>0</td>\n",
       "      <td>Distinction</td>\n",
       "      <td>89.65</td>\n",
       "      <td>1.000</td>\n",
       "      <td>94.0</td>\n",
       "      <td>103.457907</td>\n",
       "      <td>2.706754</td>\n",
       "    </tr>\n",
       "    <tr>\n",
       "      <th>1</th>\n",
       "      <td>0</td>\n",
       "      <td>Pass</td>\n",
       "      <td>84.58</td>\n",
       "      <td>1.000</td>\n",
       "      <td>76.0</td>\n",
       "      <td>87.617265</td>\n",
       "      <td>1.539047</td>\n",
       "    </tr>\n",
       "    <tr>\n",
       "      <th>2</th>\n",
       "      <td>0</td>\n",
       "      <td>Pass</td>\n",
       "      <td>51.44</td>\n",
       "      <td>0.625</td>\n",
       "      <td>66.0</td>\n",
       "      <td>49.181286</td>\n",
       "      <td>1.562619</td>\n",
       "    </tr>\n",
       "    <tr>\n",
       "      <th>3</th>\n",
       "      <td>0</td>\n",
       "      <td>Pass</td>\n",
       "      <td>75.13</td>\n",
       "      <td>1.000</td>\n",
       "      <td>50.0</td>\n",
       "      <td>118.698642</td>\n",
       "      <td>2.189217</td>\n",
       "    </tr>\n",
       "    <tr>\n",
       "      <th>4</th>\n",
       "      <td>0</td>\n",
       "      <td>Distinction</td>\n",
       "      <td>93.22</td>\n",
       "      <td>1.000</td>\n",
       "      <td>98.0</td>\n",
       "      <td>75.791987</td>\n",
       "      <td>2.100617</td>\n",
       "    </tr>\n",
       "  </tbody>\n",
       "</table>\n",
       "</div>"
      ],
      "text/plain": [
       "   num_of_prev_attempts final_result  weighted_grade  pass_rate  exam_score  \\\n",
       "0                     0  Distinction           89.65      1.000        94.0   \n",
       "1                     0         Pass           84.58      1.000        76.0   \n",
       "2                     0         Pass           51.44      0.625        66.0   \n",
       "3                     0         Pass           75.13      1.000        50.0   \n",
       "4                     0  Distinction           93.22      1.000        98.0   \n",
       "\n",
       "         date  sum_click  \n",
       "0  103.457907   2.706754  \n",
       "1   87.617265   1.539047  \n",
       "2   49.181286   1.562619  \n",
       "3  118.698642   2.189217  \n",
       "4   75.791987   2.100617  "
      ]
     },
     "execution_count": 49,
     "metadata": {},
     "output_type": "execute_result"
    }
   ],
   "source": [
    "final_df=final_df[final_df[\"sum_click\"]<=10]\n",
    "final_df=final_df[final_df[\"num_of_prev_attempts\"]<=4]\n",
    "final_df.head()"
   ]
  },
  {
   "cell_type": "code",
   "execution_count": 50,
   "metadata": {},
   "outputs": [],
   "source": [
    "X=final_df.drop(\"final_result\", axis=1)\n",
    "y=final_df[\"final_result\"]\n",
    "X_train, X_test, y_train, y_test = train_test_split(X, y, test_size=0.2)"
   ]
  },
  {
   "cell_type": "code",
   "execution_count": 51,
   "metadata": {},
   "outputs": [],
   "source": [
    "X1_test=X_test\n",
    "X1_train=X_train\n",
    "X2_test=X_test.drop(\"weighted_grade\",axis=1)\n",
    "X2_train=X_train.drop(\"weighted_grade\",axis=1)\n",
    "X3_test=X_test.drop(\"pass_rate\",axis=1)\n",
    "X3_train=X_train.drop(\"pass_rate\",axis=1)"
   ]
  },
  {
   "cell_type": "code",
   "execution_count": 106,
   "metadata": {},
   "outputs": [],
   "source": [
    "class StudentDataset(Dataset):\n",
    "\n",
    "    def __init__(self, X, y, percentage = 1):\n",
    "        self.X = X.values.tolist()\n",
    "        self.y = y.values.tolist()\n",
    "\n",
    "        self.X = self.X[:int(len(self.X)*percentage)]\n",
    "        self.y = self.y[:int(len(self.y)*percentage)]\n",
    "\n",
    "    def __len__(self):\n",
    "        return len(self.X)\n",
    "        \n",
    "\n",
    "    def __getitem__(self, idx):\n",
    "        x_sample = torch.tensor(self.X[idx])\n",
    "        y_sample = self.y[idx]\n",
    "\n",
    "        if y_sample == \"Fail\":\n",
    "            y_sample = 0.0\n",
    "        else:\n",
    "            y_sample = 1.0\n",
    "\n",
    "        return x_sample.double(), y_sample"
   ]
  },
  {
   "cell_type": "code",
   "execution_count": 107,
   "metadata": {},
   "outputs": [],
   "source": [
    "dataset_train1 = StudentDataset(X1_train, y_train)\n",
    "dataset_train2 = StudentDataset(X2_train, y_train)\n",
    "dataset_train3 = StudentDataset(X3_train, y_train)\n",
    "\n",
    "dataset_test1 = StudentDataset(X1_test, y_test)\n",
    "dataset_test2 = StudentDataset(X2_test, y_test)\n",
    "dataset_test3 = StudentDataset(X3_test, y_test)"
   ]
  },
  {
   "cell_type": "code",
   "execution_count": 108,
   "metadata": {},
   "outputs": [],
   "source": [
    "dataloader_train1 = DataLoader(dataset_train1, batch_size=16,\n",
    "                        shuffle=True, num_workers=0)\n",
    "dataloader_train2 = DataLoader(dataset_train2, batch_size=16,\n",
    "                        shuffle=True, num_workers=0)\n",
    "dataloader_train3 = DataLoader(dataset_train3, batch_size=16,\n",
    "                        shuffle=True, num_workers=0)\n",
    "\n",
    "dataloader_test1 = DataLoader(dataset_test1, batch_size=16,\n",
    "                        shuffle=True, num_workers=0)\n",
    "dataloader_test2 = DataLoader(dataset_test2, batch_size=16,\n",
    "                        shuffle=True, num_workers=0)\n",
    "dataloader_test3 = DataLoader(dataset_test3, batch_size=16,\n",
    "                        shuffle=True, num_workers=0)"
   ]
  },
  {
   "cell_type": "code",
   "execution_count": 109,
   "metadata": {},
   "outputs": [],
   "source": [
    "x, _ = dataset_train1[0]\n",
    "in_features1 = len(x)\n",
    "\n",
    "x, _ = dataset_train2[0]\n",
    "in_features2 = len(x)\n",
    "\n",
    "x, _ = dataset_train3[0]\n",
    "in_features3 = len(x)"
   ]
  },
  {
   "cell_type": "code",
   "execution_count": 110,
   "metadata": {},
   "outputs": [],
   "source": [
    "class StudentPassClassifier(nn.Module):\n",
    "    def __init__(self, in_features):\n",
    "        super(StudentPassClassifier, self).__init__()\n",
    "\n",
    "        self.model = nn.Sequential(\n",
    "            nn.Linear(in_features, in_features * 2),\n",
    "            nn.ReLU(),\n",
    "            nn.Linear(in_features*2, 1),\n",
    "            nn.Sigmoid()\n",
    "        )\n",
    "        self.double()\n",
    "\n",
    "    def forward(self, x):\n",
    "        return self.model(x)"
   ]
  },
  {
   "cell_type": "code",
   "execution_count": 111,
   "metadata": {},
   "outputs": [],
   "source": [
    "def stop(losses, beta = 5E-5):\n",
    "    if len(losses) < 2: \n",
    "        return False\n",
    "    last_loss = losses[-2]\n",
    "    actual_loss = losses[-1]\n",
    "\n",
    "    return abs(actual_loss - last_loss) < beta\n",
    "\n",
    "def checkpoint(model, epoch, path):\n",
    "    torch.save(model.state_dict(), os.path.join(path, f\"epoch {epoch}.pt\"))"
   ]
  },
  {
   "cell_type": "code",
   "execution_count": 142,
   "metadata": {},
   "outputs": [],
   "source": [
    "def train(epochs, dataloader, model, optimizer, criterion, path_to_save, data_len, losses = list(), accuracies = list(), checkpoint_epoch = 10):\n",
    "    for epoch in range(epochs):\n",
    "\n",
    "        running_loss = 0.0\n",
    "        corrects = 0.0\n",
    "        for i, data in enumerate(dataloader):\n",
    "            inputs, labels = data\n",
    "            inputs = inputs.to(device)\n",
    "            labels = labels.to(device)\n",
    "\n",
    "            optimizer.zero_grad()\n",
    "\n",
    "            outputs = torch.flatten(model(inputs))\n",
    "            loss = criterion(outputs, labels)\n",
    "            loss.backward()\n",
    "            optimizer.step()\n",
    "\n",
    "            running_loss += loss.item()\n",
    "\n",
    "            outputs = torch.where(outputs > 0.5, 1.0, 0.0)\n",
    "\n",
    "            corrects += float(torch.sum(outputs == labels))\n",
    "\n",
    "        if (epoch % checkpoint_epoch) == 0:\n",
    "            checkpoint(model, epoch, path_to_save)\n",
    "\n",
    "        accuracy = corrects/data_len\n",
    "        accuracies.append(accuracy)\n",
    "        print(\"EPOCH {} \\t LOSS: {:.5f} \\t ACCURACY: {:.5f}\".format(epoch+1, running_loss/data_len, accuracy) )\n",
    "\n",
    "        losses.append(running_loss/data_len)\n",
    "\n",
    "        if stop(losses, beta = 1E-10):\n",
    "            checkpoint(model, epoch, path_to_save)\n",
    "            print(\"[-] TRAINING STOPPED: DIFFERENCE BETWEEN LOSSES WAS TOO LOW\")\n",
    "            return losses, accuracies\n",
    "\n",
    "\n",
    "    print('[+] TRAINING FINISHED')\n",
    "    return losses, accuracies"
   ]
  },
  {
   "cell_type": "code",
   "execution_count": 147,
   "metadata": {},
   "outputs": [],
   "source": [
    "model1 = StudentPassClassifier(in_features1).to(device)\n",
    "torch.save(model1.state_dict(), \"nn_weights_fe/not_trained1.pt\")\n",
    "\n",
    "model2 = StudentPassClassifier(in_features2).to(device)\n",
    "torch.save(model2.state_dict(), \"nn_weights_fe/not_trained2.pt\")\n",
    "\n",
    "model3 = StudentPassClassifier(in_features3).to(device)\n",
    "torch.save(model3.state_dict(), \"nn_weights_fe/not_trained3.pt\")\n",
    "\n",
    "epochs = 200\n",
    "\n",
    "criterion = nn.MSELoss()"
   ]
  },
  {
   "cell_type": "code",
   "execution_count": null,
   "metadata": {},
   "outputs": [],
   "source": [
    "def map_from_index(i):\n",
    "    if i == 0:\n",
    "        return model1, dataloader_train1, len(dataset_train1)\n",
    "    if i == 1:\n",
    "        return model2, dataloader_train2, len(dataset_train2)\n",
    "    if i == 2:\n",
    "        return model2, dataloader_train2, len(dataset_train2)\n",
    "\n",
    "all_results = dict()\n",
    "for i in range(3):\n",
    "\n",
    "    print(f\"EXECUTING NUMBER {i+1}\")\n",
    "    print(\"========================================================================================\")\n",
    "\n",
    "    model, dataloader_train, data_len = map_from_index(i)\n",
    "    results = list()\n",
    "\n",
    "    for lr in [0.1, 0.01, 0.001, 0.0001, 0.00001]:\n",
    "        print(f\"\\tEXECUTING OPTIMIZER WITH LEARNING RATE: {lr}\")\n",
    "        print(\"\\t===================================================================================\")\n",
    "\n",
    "        not_trained_state_dict = torch.load(f\"nn_weights_fe/not_trained{i+1}.pt\") # Done to reset the network\n",
    "        model.load_state_dict(not_trained_state_dict)\n",
    "\n",
    "        optimizer = optim.SGD(model.parameters(), lr=lr)\n",
    "        path = f\"nn_weights_fe/model{i+1}/features_engineering[lr = {lr}]/\"\n",
    "        if not os.path.exists(path):\n",
    "            os.makedirs(path)\n",
    "        result = train(epochs, dataloader_train, model, optimizer, criterion, path, data_len, losses = [], accuracies= [])\n",
    "        results.append(result)\n",
    "\n",
    "        print(\"\\t===================================================================================\")\n",
    "        print(\"\\n\\n\\n\")\n",
    "\n",
    "    all_results[i] = results"
   ]
  },
  {
   "cell_type": "code",
   "execution_count": 145,
   "metadata": {},
   "outputs": [],
   "source": [
    "def eval(model, dataloader, data_len):\n",
    "    model.eval()\n",
    "    corrects = 0\n",
    "\n",
    "    for i, data in enumerate(dataloader):\n",
    "        # get the inputs; data is a list of [inputs, labels]\n",
    "        inputs, labels = data\n",
    "        inputs = inputs.to(device)\n",
    "        labels = labels.to(device)\n",
    "\n",
    "        # forward + backward + optimize\n",
    "        outputs = torch.flatten(model(inputs))\n",
    "\n",
    "        outputs = torch.where(outputs > 0.5, 1.0, 0.0)\n",
    "\n",
    "        corrects += float(torch.sum(outputs == labels))\n",
    "\n",
    "    print(\"Precision: {:.3f}\".format(corrects/data_len))\n",
    "    return corrects/data_len"
   ]
  },
  {
   "cell_type": "code",
   "execution_count": 146,
   "metadata": {},
   "outputs": [
    {
     "name": "stdout",
     "output_type": "stream",
     "text": [
      "Precision: 0.938\n",
      "0.9383838383838384\n"
     ]
    }
   ],
   "source": [
    "print(eval(model1, dataloader_test1, len(dataset_test1)))"
   ]
  },
  {
   "cell_type": "markdown",
   "metadata": {},
   "source": [
    "### Without feature engineering"
   ]
  },
  {
   "cell_type": "code",
   "execution_count": 5,
   "metadata": {},
   "outputs": [],
   "source": [
    "X_train = pd.read_csv(\"sets/X_train.csv\")\n",
    "X_test = pd.read_csv(\"sets/X_test.csv\")\n",
    "y_train = pd.read_csv(\"sets/y_train.csv\")\n",
    "y_test = pd.read_csv(\"sets/y_test.csv\")"
   ]
  },
  {
   "cell_type": "code",
   "execution_count": 10,
   "metadata": {},
   "outputs": [],
   "source": [
    "class StudentDataset(Dataset):\n",
    "\n",
    "    def __init__(self, X, y, num_classes = 10, percentage = 1):\n",
    "        self.X = X.values.tolist()\n",
    "        self.y = y.values.flatten().tolist()\n",
    "\n",
    "        self.X = self.X[:int(len(self.X)*percentage)]\n",
    "        self.y = self.y[:int(len(self.y)*percentage)]\n",
    "\n",
    "        self.bin_range = int(100 / num_classes)\n",
    "        self.num_classes = num_classes\n",
    "\n",
    "    def __len__(self):\n",
    "        return len(self.X)\n",
    "        \n",
    "\n",
    "    def __getitem__(self, idx):\n",
    "        x_sample = torch.tensor(self.X[idx])\n",
    "        y_sample = torch.zeros(self.num_classes)\n",
    "        if int(self.y[idx]/self.bin_range) == self.num_classes: # <- Not the best solution to access multiple indexes in this horrible way, but it works. Since the y are in a pandas dataframe, when we parse them into list we get a list with each value inside another list.\n",
    "            y_sample[self.num_classes - 1] = 1\n",
    "        else:\n",
    "            y_sample[int(self.y[idx]/self.bin_range)] = 1\n",
    "\n",
    "        return x_sample, y_sample\n",
    "        "
   ]
  },
  {
   "cell_type": "code",
   "execution_count": 27,
   "metadata": {},
   "outputs": [],
   "source": [
    "dataset_train = StudentDataset(X_train, y_train)\n",
    "dataset_test = StudentDataset(X_test, y_test)"
   ]
  },
  {
   "cell_type": "code",
   "execution_count": 28,
   "metadata": {},
   "outputs": [],
   "source": [
    "dataloader_train = DataLoader(dataset_train, batch_size=16,\n",
    "                        shuffle=True, num_workers=0)\n",
    "\n",
    "dataloader_test = DataLoader(dataset_test, batch_size=16,\n",
    "                        shuffle=True, num_workers=0)"
   ]
  },
  {
   "cell_type": "code",
   "execution_count": 29,
   "metadata": {},
   "outputs": [],
   "source": [
    "x, y = dataset_train[0]\n",
    "in_features = len(x)\n",
    "out_features = len(y)"
   ]
  },
  {
   "cell_type": "code",
   "execution_count": 24,
   "metadata": {},
   "outputs": [],
   "source": [
    "class StudentScoreClassifier(nn.Module):\n",
    "    def __init__(self, in_features, out_features):\n",
    "        super(StudentScoreClassifier, self).__init__()\n",
    "\n",
    "        self.model = nn.Sequential(\n",
    "            nn.Linear(in_features, in_features * 2),\n",
    "            nn.ReLU(),\n",
    "            nn.Linear(in_features*2, out_features),\n",
    "            nn.Softmax(dim = 1)\n",
    "        )\n",
    "\n",
    "    def forward(self, x):\n",
    "        return self.model(x)"
   ]
  },
  {
   "cell_type": "code",
   "execution_count": 50,
   "metadata": {},
   "outputs": [],
   "source": [
    "def stop(losses, beta = 5E-5):\n",
    "    if len(losses) < 2: \n",
    "        return False\n",
    "    last_loss = losses[-2]\n",
    "    actual_loss = losses[-1]\n",
    "\n",
    "    return abs(actual_loss - last_loss) < beta\n",
    "\n",
    "def checkpoint(model, epoch, path):\n",
    "    torch.save(model.state_dict(), os.path.join(path, f\"epoch {epoch}.pt\"))\n"
   ]
  },
  {
   "cell_type": "code",
   "execution_count": 48,
   "metadata": {},
   "outputs": [],
   "source": [
    "def train(epochs, dataloader, model, optimizer, criterion, path_to_save, losses = list(), accuracies = list(), checkpoint_epoch = 10):\n",
    "    for epoch in range(epochs):\n",
    "\n",
    "        running_loss = 0.0\n",
    "        corrects = 0.0\n",
    "        for i, data in enumerate(dataloader):\n",
    "            inputs, labels = data\n",
    "            inputs = inputs.to(device)\n",
    "            labels = labels.to(device)\n",
    "\n",
    "            optimizer.zero_grad()\n",
    "\n",
    "            outputs = model(inputs)\n",
    "            loss = criterion(outputs, labels)\n",
    "            loss.backward()\n",
    "            optimizer.step()\n",
    "\n",
    "            running_loss += loss.item()\n",
    "\n",
    "            _, preds = torch.max(outputs.data, 1)\n",
    "            _, correct_labels = torch.max(labels.data ,1)\n",
    "\n",
    "            corrects += float(torch.sum(preds == correct_labels))\n",
    "\n",
    "        if (epoch % checkpoint_epoch) == 0:\n",
    "            checkpoint(model, epoch, path_to_save)\n",
    "\n",
    "        accuracy = corrects/len(dataset_train)\n",
    "        accuracies.append(accuracy)\n",
    "        print(\"EPOCH {} \\t LOSS: {:.5f} \\t ACCURACY: {:.5f}\".format(epoch+1, running_loss/len(dataset_train), accuracy) )\n",
    "\n",
    "        losses.append(running_loss/len(dataset_train))\n",
    "\n",
    "        if stop(losses):\n",
    "            checkpoint(model, epoch, path_to_save)\n",
    "            print(\"[-] TRAINING STOPPED: DIFFERENCE BETWEEN LOSSES WAS TOO LOW\")\n",
    "            return losses, accuracies\n",
    "\n",
    "\n",
    "    print('[+] TRAINING FINISHED')\n",
    "    return losses, accuracies"
   ]
  },
  {
   "cell_type": "code",
   "execution_count": 30,
   "metadata": {},
   "outputs": [],
   "source": [
    "model = StudentScoreClassifier(in_features, out_features).to(device)\n",
    "torch.save(model.state_dict(), \"nn_weights/not_trained.pt\")\n",
    "\n",
    "epochs = 100\n",
    "\n",
    "criterion = nn.CrossEntropyLoss()"
   ]
  },
  {
   "cell_type": "code",
   "execution_count": 52,
   "metadata": {},
   "outputs": [],
   "source": [
    "def train_multiple_lr(epochs, model, dataloader_train, criterion, base_path, path_not_trained):\n",
    "\n",
    "    results = list()\n",
    "\n",
    "    for lr in [0.1, 0.01, 0.001, 0.0001, 0.00001]:\n",
    "        print(f\"EXECUTING OPTIMIZER WITH LEARNING RATE: {lr}\")\n",
    "        print(\"===================================================================================\")\n",
    "\n",
    "        not_trained_state_dict = torch.load(path_not_trained) # Done to reset the network\n",
    "        model.load_state_dict(not_trained_state_dict)\n",
    "\n",
    "        optimizer = optim.SGD(model.parameters(), lr=lr)\n",
    "        path = base_path + f\"[lr = {lr}]/\"\n",
    "        if not os.path.exists(path):\n",
    "            os.mkdir(path)\n",
    "        result = train(epochs, dataloader_train, model, optimizer, criterion, path, losses = [], accuracies= [])\n",
    "        results.append(result)\n",
    "\n",
    "        print(\"===================================================================================\")\n",
    "        print(\"\\n\\n\\n\")\n",
    "\n",
    "    return results\n"
   ]
  },
  {
   "cell_type": "code",
   "execution_count": null,
   "metadata": {},
   "outputs": [],
   "source": [
    "results = train_multiple_lr(epochs, dataloader_train, model, criterion, \"nn_weights/no_features_engineering\")"
   ]
  },
  {
   "cell_type": "code",
   "execution_count": 57,
   "metadata": {},
   "outputs": [],
   "source": [
    "def save_results(results, path_to_save):\n",
    "    with open(path_to_save, 'a') as fp:\n",
    "        fp.write(str(results))"
   ]
  },
  {
   "cell_type": "code",
   "execution_count": null,
   "metadata": {},
   "outputs": [],
   "source": [
    "save_results(results, \"nn_results.txt\")"
   ]
  },
  {
   "cell_type": "code",
   "execution_count": 14,
   "metadata": {},
   "outputs": [],
   "source": [
    "def resume_results(path_where_saved):\n",
    "    with open(path_where_saved, 'r') as fp:\n",
    "        results = fp.readline()\n",
    "\n",
    "    import ast\n",
    "\n",
    "    results = ast.literal_eval(results)\n",
    "\n",
    "    return results"
   ]
  },
  {
   "cell_type": "code",
   "execution_count": 17,
   "metadata": {},
   "outputs": [],
   "source": [
    "results = resume_results(\"nn_results.txt\")"
   ]
  },
  {
   "cell_type": "code",
   "execution_count": 18,
   "metadata": {},
   "outputs": [],
   "source": [
    "def plot_results(results):\n",
    "\n",
    "    for i, lr in enumerate([0.1, 0.01, 0.001, 0.0001, 0.00001]):\n",
    "        losses, accuracies = results[i]\n",
    "\n",
    "        print(\"===================================================\")\n",
    "        print(f\"PLOTTING FOR LEARNING RATE: {lr}\")\n",
    "        \n",
    "        fig, axis = plt.subplots(1,2)\n",
    "        fig.tight_layout(pad=5.0)\n",
    "        fig.suptitle(f\"LEARNING RATE: {lr}\")\n",
    "        axis[0].set(xlabel = \"EPOCH\", ylabel = \"LOSS\", title=\"TRAINING LOSS\")\n",
    "        axis[0].plot(list(range(1,len(losses)+1)), losses, marker=\"o\")\n",
    "\n",
    "        axis[1].set(xlabel = \"EPOCH\", ylabel = \"ACCURACY\", title=\"TRAINING ACCURACY\")\n",
    "        axis[1].plot(list(range(1,len(accuracies)+1)), accuracies, marker=\"o\")\n",
    "\n",
    "        plt.show()"
   ]
  },
  {
   "cell_type": "code",
   "execution_count": 19,
   "metadata": {},
   "outputs": [
    {
     "name": "stdout",
     "output_type": "stream",
     "text": [
      "===================================================\n",
      "PLOTTING FOR LEARNING RATE: 0.1\n"
     ]
    },
    {
     "data": {
      "image/png": "[encoded data removed]",
      "text/plain": [
       "<Figure size 640x480 with 2 Axes>"
      ]
     },
     "metadata": {},
     "output_type": "display_data"
    },
    {
     "name": "stdout",
     "output_type": "stream",
     "text": [
      "===================================================\n",
      "PLOTTING FOR LEARNING RATE: 0.01\n"
     ]
    },
    {
     "data": {
      "image/png": "[encoded data removed]",
      "text/plain": [
       "<Figure size 640x480 with 2 Axes>"
      ]
     },
     "metadata": {},
     "output_type": "display_data"
    },
    {
     "name": "stdout",
     "output_type": "stream",
     "text": [
      "===================================================\n",
      "PLOTTING FOR LEARNING RATE: 0.001\n"
     ]
    },
    {
     "data": {
      "image/png": "[encoded data removed]",
      "text/plain": [
       "<Figure size 640x480 with 2 Axes>"
      ]
     },
     "metadata": {},
     "output_type": "display_data"
    },
    {
     "name": "stdout",
     "output_type": "stream",
     "text": [
      "===================================================\n",
      "PLOTTING FOR LEARNING RATE: 0.0001\n"
     ]
    },
    {
     "data": {
      "image/png": "[encoded data removed]",
      "text/plain": [
       "<Figure size 640x480 with 2 Axes>"
      ]
     },
     "metadata": {},
     "output_type": "display_data"
    },
    {
     "name": "stdout",
     "output_type": "stream",
     "text": [
      "===================================================\n",
      "PLOTTING FOR LEARNING RATE: 1e-05\n"
     ]
    },
    {
     "data": {
      "image/png": "[encoded data removed]",
      "text/plain": [
       "<Figure size 640x480 with 2 Axes>"
      ]
     },
     "metadata": {},
     "output_type": "display_data"
    }
   ],
   "source": [
    "plot_results(results)"
   ]
  },
  {
   "cell_type": "code",
   "execution_count": 20,
   "metadata": {},
   "outputs": [],
   "source": [
    "def eval(model, dataloader):\n",
    "    model.eval()\n",
    "    corrects = 0\n",
    "\n",
    "    for i, data in enumerate(dataloader):\n",
    "        # get the inputs; data is a list of [inputs, labels]\n",
    "        inputs, labels = data\n",
    "        inputs = inputs.to(device)\n",
    "        labels = labels.to(device)\n",
    "\n",
    "        # forward + backward + optimize\n",
    "        outputs = model(inputs)\n",
    "\n",
    "        _, preds = torch.max(outputs.data, 1)\n",
    "        _, correct_labels = torch.max(labels.data ,1)\n",
    "\n",
    "        corrects += float(torch.sum(preds == correct_labels))\n",
    "\n",
    "    print(\"Precision: {:.3f}\".format(corrects/len(dataset_test)))\n",
    "    return corrects/len(dataset_test)"
   ]
  },
  {
   "cell_type": "code",
   "execution_count": 21,
   "metadata": {},
   "outputs": [],
   "source": [
    "def eval_multiple(model, dataloader_test, base_path):\n",
    "    precisions = dict()\n",
    "    for d in os.listdir(base_path):\n",
    "        if os.path.isdir(os.path.join(base_path, d)):\n",
    "            files = os.listdir(os.path.join(base_path, d))\n",
    "\n",
    "            weights = files[-1]\n",
    "            state_dict = torch.load(os.path.join(base_path, d, weights))\n",
    "            model.load_state_dict(state_dict)\n",
    "\n",
    "            d = d.split(\"[\")[-1][:-1]\n",
    "            precisions[d] = eval(model, dataloader_test)\n",
    "    return precisions"
   ]
  },
  {
   "cell_type": "code",
   "execution_count": 31,
   "metadata": {},
   "outputs": [
    {
     "name": "stdout",
     "output_type": "stream",
     "text": [
      "Precision: 0.284\n",
      "Precision: 0.330\n",
      "Precision: 0.345\n",
      "Precision: 0.351\n",
      "Precision: 0.086\n"
     ]
    }
   ],
   "source": [
    "precisions = eval_multiple(model, dataloader_test, \"nn_weights/\")"
   ]
  },
  {
   "cell_type": "code",
   "execution_count": 32,
   "metadata": {},
   "outputs": [],
   "source": [
    "def show_precisions(precisions):\n",
    "    sorted_precisions = dict(sorted(precisions.items(), key=lambda x:x[1]))\n",
    "\n",
    "    labels = list(sorted_precisions.keys())\n",
    "    values = list(sorted_precisions.values())\n",
    "\n",
    "    # Create a bar plot\n",
    "    plt.bar(labels, values, color='blue')\n",
    "\n",
    "    # Add labels and title\n",
    "    plt.xlabel('Learning rates')\n",
    "    plt.ylabel('Precision')\n",
    "\n",
    "    # Show the plot\n",
    "    plt.show()"
   ]
  },
  {
   "cell_type": "code",
   "execution_count": 33,
   "metadata": {},
   "outputs": [
    {
     "data": {
      "image/png": "[encoded data removed]",
      "text/plain": [
       "<Figure size 640x480 with 1 Axes>"
      ]
     },
     "metadata": {},
     "output_type": "display_data"
    }
   ],
   "source": [
    "show_precisions(precisions)"
   ]
  },
  {
   "cell_type": "markdown",
   "metadata": {},
   "source": [
    "Metrics with the best weights so far"
   ]
  },
  {
   "cell_type": "code",
   "execution_count": 40,
   "metadata": {},
   "outputs": [],
   "source": [
    "model = StudentScoreClassifier().to(device)\n",
    "model.eval()\n",
    "\n",
    "not_trained_state_dict = torch.load(\"nn_weights/no_features_engineering[lr = 0.1]/epoch 8.pt\") # Done to reset the network\n",
    "model.load_state_dict(not_trained_state_dict)\n",
    "\n",
    "y_pred = torch.empty(0).to(device)\n",
    "\n",
    "for i, data in enumerate(dataloader_test):\n",
    "    \n",
    "    inputs, labels = data\n",
    "    inputs = inputs.to(device)\n",
    "    labels = labels.to(device)\n",
    "\n",
    "    outputs = model(inputs)\n",
    "    _, preds = torch.max(outputs.data, 1)\n",
    "\n",
    "    y_pred = torch.cat((y_pred, preds))"
   ]
  },
  {
   "cell_type": "code",
   "execution_count": 41,
   "metadata": {},
   "outputs": [
    {
     "name": "stderr",
     "output_type": "stream",
     "text": [
      "C:\\Users\\stefa\\AppData\\Local\\Packages\\PythonSoftwareFoundation.Python.3.8_qbz5n2kfra8p0\\LocalCache\\local-packages\\Python38\\site-packages\\sklearn\\metrics\\_classification.py:1469: UndefinedMetricWarning: Precision and F-score are ill-defined and being set to 0.0 in labels with no predicted samples. Use `zero_division` parameter to control this behavior.\n",
      "  _warn_prf(average, modifier, msg_start, len(result))\n",
      "C:\\Users\\stefa\\AppData\\Local\\Packages\\PythonSoftwareFoundation.Python.3.8_qbz5n2kfra8p0\\LocalCache\\local-packages\\Python38\\site-packages\\sklearn\\metrics\\_classification.py:1469: UndefinedMetricWarning: Precision and F-score are ill-defined and being set to 0.0 in labels with no predicted samples. Use `zero_division` parameter to control this behavior.\n",
      "  _warn_prf(average, modifier, msg_start, len(result))\n",
      "C:\\Users\\stefa\\AppData\\Local\\Packages\\PythonSoftwareFoundation.Python.3.8_qbz5n2kfra8p0\\LocalCache\\local-packages\\Python38\\site-packages\\sklearn\\metrics\\_classification.py:1469: UndefinedMetricWarning: Precision and F-score are ill-defined and being set to 0.0 in labels with no predicted samples. Use `zero_division` parameter to control this behavior.\n",
      "  _warn_prf(average, modifier, msg_start, len(result))\n"
     ]
    }
   ],
   "source": [
    "y_true = []\n",
    "\n",
    "for i in dataset_test:\n",
    "    y_true.append(torch.argmax(i[1]).item())\n",
    "\n",
    "y_pred = y_pred.tolist()\n",
    "report = metrics.classification_report(y_true, y_pred)\n"
   ]
  },
  {
   "cell_type": "code",
   "execution_count": 43,
   "metadata": {},
   "outputs": [
    {
     "name": "stdout",
     "output_type": "stream",
     "text": [
      "              precision    recall  f1-score   support\n",
      "\n",
      "           0       0.00      0.00      0.00       265\n",
      "           1       0.00      0.00      0.00       159\n",
      "           2       0.00      0.00      0.00       346\n",
      "           3       0.00      0.00      0.00       583\n",
      "           4       0.00      0.00      0.00      1443\n",
      "           5       0.00      0.00      0.00      2317\n",
      "           6       0.00      0.00      0.00      4815\n",
      "           7       0.19      0.30      0.23      6274\n",
      "           8       0.26      0.38      0.31      8340\n",
      "           9       0.25      0.33      0.28      8136\n",
      "\n",
      "    accuracy                           0.23     32678\n",
      "   macro avg       0.07      0.10      0.08     32678\n",
      "weighted avg       0.16      0.23      0.19     32678\n",
      "\n"
     ]
    }
   ],
   "source": [
    "print(report)"
   ]
  },
  {
   "cell_type": "markdown",
   "metadata": {},
   "source": [
    "#### Binay classification using NN"
   ]
  },
  {
   "cell_type": "code",
   "execution_count": 147,
   "metadata": {},
   "outputs": [],
   "source": [
    "class BinaryStudentDataset(Dataset):\n",
    "\n",
    "    def __init__(self, X, y, score = 40, percentage = 1):\n",
    "        self.X = X.values.tolist()\n",
    "        self.y = y.values.flatten().tolist()\n",
    "\n",
    "        self.X = self.X[:int(len(self.X)*percentage)]\n",
    "        self.y = self.y[:int(len(self.y)*percentage)]\n",
    "\n",
    "        self.score = score\n",
    "\n",
    "    def __len__(self):\n",
    "        return len(self.X)\n",
    "        \n",
    "\n",
    "    def __getitem__(self, idx):\n",
    "        x_sample = torch.tensor(self.X[idx])\n",
    "        y_sample = 0.0\n",
    "\n",
    "        if self.y[idx] > self.score:\n",
    "            y_sample = 1.0\n",
    "\n",
    "        return x_sample, y_sample"
   ]
  },
  {
   "cell_type": "code",
   "execution_count": 148,
   "metadata": {},
   "outputs": [],
   "source": [
    "dataset_train = BinaryStudentDataset(X_train, y_train)\n",
    "dataset_test = BinaryStudentDataset(X_test, y_test)"
   ]
  },
  {
   "cell_type": "code",
   "execution_count": 149,
   "metadata": {},
   "outputs": [],
   "source": [
    "dataloader_train = DataLoader(dataset_train, batch_size=16,\n",
    "                        shuffle=True, num_workers=0)\n",
    "\n",
    "dataloader_test = DataLoader(dataset_test, batch_size=16,\n",
    "                        shuffle=True, num_workers=0)"
   ]
  },
  {
   "cell_type": "code",
   "execution_count": 150,
   "metadata": {},
   "outputs": [],
   "source": [
    "x, y = dataset_train[0]\n",
    "in_features = len(x)\n"
   ]
  },
  {
   "cell_type": "code",
   "execution_count": 151,
   "metadata": {},
   "outputs": [],
   "source": [
    "class BinaryStudentScoreClassifier(nn.Module):\n",
    "    def __init__(self, in_features):\n",
    "        super(BinaryStudentScoreClassifier, self).__init__()\n",
    "\n",
    "        self.model = nn.Sequential(\n",
    "            nn.Linear(in_features, in_features * 2),\n",
    "            nn.ReLU(),\n",
    "            nn.Linear(in_features*2, 1),\n",
    "            nn.Sigmoid()\n",
    "        )\n",
    "\n",
    "        self.float()\n",
    "\n",
    "    def forward(self, x):\n",
    "        return self.model(x)"
   ]
  },
  {
   "cell_type": "code",
   "execution_count": 152,
   "metadata": {},
   "outputs": [],
   "source": [
    "model = BinaryStudentScoreClassifier(in_features).to(device)\n",
    "torch.save(model.state_dict(), \"binary_nn_weights/binary_not_trained.pt\")\n",
    "\n",
    "epochs = 100\n",
    "\n",
    "criterion = nn.MSELoss()"
   ]
  },
  {
   "cell_type": "code",
   "execution_count": 153,
   "metadata": {},
   "outputs": [],
   "source": [
    "def train(epochs, dataloader, model, optimizer, criterion, path_to_save, losses = list(), accuracies = list(), checkpoint_epoch = 10):\n",
    "    for epoch in range(epochs):\n",
    "\n",
    "        running_loss = 0.0\n",
    "        corrects = 0.0\n",
    "        for i, data in enumerate(dataloader):\n",
    "            inputs, labels = data\n",
    "            inputs = inputs.to(device)\n",
    "            labels = labels.float().to(device)\n",
    "\n",
    "            optimizer.zero_grad()\n",
    "\n",
    "            outputs = torch.flatten(model(inputs))\n",
    "            loss = criterion(outputs, labels)\n",
    "            loss.backward()\n",
    "            optimizer.step()\n",
    "\n",
    "            running_loss += loss.item()\n",
    "\n",
    "            preds = torch.where(outputs > 0.5, 1, 0)\n",
    "\n",
    "            corrects += float(torch.sum(preds == labels))\n",
    "\n",
    "        if (epoch % checkpoint_epoch) == 0:\n",
    "            checkpoint(model, epoch, path_to_save)\n",
    "\n",
    "        accuracy = corrects/len(dataset_train)\n",
    "        accuracies.append(accuracy)\n",
    "        print(\"EPOCH {} \\t LOSS: {:.5f} \\t ACCURACY: {:.5f}\".format(epoch+1, running_loss/len(dataset_train), accuracy) )\n",
    "\n",
    "        losses.append(running_loss/len(dataset_train))\n",
    "\n",
    "        if stop(losses):\n",
    "            checkpoint(model, epoch, path_to_save)\n",
    "            print(\"[-] TRAINING STOPPED: DIFFERENCE BETWEEN LOSSES WAS TOO LOW\")\n",
    "            return losses, accuracies\n",
    "\n",
    "\n",
    "    print('[+] TRAINING FINISHED')\n",
    "    return losses, accuracies"
   ]
  },
  {
   "cell_type": "code",
   "execution_count": 154,
   "metadata": {},
   "outputs": [],
   "source": [
    "def train_multiple_lr(epochs, model, dataloader_train, criterion, base_path, path_not_trained):\n",
    "\n",
    "    results = list()\n",
    "\n",
    "    for lr in [0.1, 0.01, 0.001, 0.0001, 0.00001]:\n",
    "        print(f\"EXECUTING OPTIMIZER WITH LEARNING RATE: {lr}\")\n",
    "        print(\"===================================================================================\")\n",
    "\n",
    "        not_trained_state_dict = torch.load(path_not_trained) # Done to reset the network\n",
    "        model.load_state_dict(not_trained_state_dict)\n",
    "\n",
    "        optimizer = optim.SGD(model.parameters(), lr=lr)\n",
    "        path = base_path + f\"[lr = {lr}]/\"\n",
    "        if not os.path.exists(path):\n",
    "            os.mkdir(path)\n",
    "        result = train(epochs, dataloader_train, model, optimizer, criterion, path, losses = [], accuracies= [])\n",
    "        results.append(result)\n",
    "\n",
    "        print(\"===================================================================================\")\n",
    "        print(\"\\n\\n\\n\")\n",
    "\n",
    "    return results"
   ]
  },
  {
   "cell_type": "code",
   "execution_count": 155,
   "metadata": {},
   "outputs": [
    {
     "name": "stdout",
     "output_type": "stream",
     "text": [
      "EXECUTING OPTIMIZER WITH LEARNING RATE: 0.1\n",
      "===================================================================================\n",
      "EPOCH 1 \t LOSS: 0.00317 \t ACCURACY: 0.94531\n",
      "EPOCH 2 \t LOSS: 0.00310 \t ACCURACY: 0.94537\n",
      "EPOCH 3 \t LOSS: 0.00309 \t ACCURACY: 0.94537\n",
      "[-] TRAINING STOPPED: DIFFERENCE BETWEEN LOSSES WAS TOO LOW\n",
      "===================================================================================\n",
      "\n",
      "\n",
      "\n",
      "\n",
      "EXECUTING OPTIMIZER WITH LEARNING RATE: 0.01\n",
      "===================================================================================\n",
      "EPOCH 1 \t LOSS: 0.00345 \t ACCURACY: 0.94515\n",
      "EPOCH 2 \t LOSS: 0.00318 \t ACCURACY: 0.94537\n",
      "EPOCH 3 \t LOSS: 0.00316 \t ACCURACY: 0.94537\n",
      "[-] TRAINING STOPPED: DIFFERENCE BETWEEN LOSSES WAS TOO LOW\n",
      "===================================================================================\n",
      "\n",
      "\n",
      "\n",
      "\n",
      "EXECUTING OPTIMIZER WITH LEARNING RATE: 0.001\n",
      "===================================================================================\n",
      "EPOCH 1 \t LOSS: 0.00530 \t ACCURACY: 0.94332\n",
      "EPOCH 2 \t LOSS: 0.00342 \t ACCURACY: 0.94537\n",
      "EPOCH 3 \t LOSS: 0.00328 \t ACCURACY: 0.94537\n",
      "EPOCH 4 \t LOSS: 0.00324 \t ACCURACY: 0.94537\n",
      "[-] TRAINING STOPPED: DIFFERENCE BETWEEN LOSSES WAS TOO LOW\n",
      "===================================================================================\n",
      "\n",
      "\n",
      "\n",
      "\n",
      "EXECUTING OPTIMIZER WITH LEARNING RATE: 0.0001\n",
      "===================================================================================\n",
      "EPOCH 1 \t LOSS: 0.01097 \t ACCURACY: 0.92356\n",
      "EPOCH 2 \t LOSS: 0.00736 \t ACCURACY: 0.94537\n",
      "EPOCH 3 \t LOSS: 0.00579 \t ACCURACY: 0.94537\n",
      "EPOCH 4 \t LOSS: 0.00497 \t ACCURACY: 0.94537\n",
      "EPOCH 5 \t LOSS: 0.00449 \t ACCURACY: 0.94537\n",
      "EPOCH 6 \t LOSS: 0.00418 \t ACCURACY: 0.94537\n",
      "EPOCH 7 \t LOSS: 0.00398 \t ACCURACY: 0.94537\n",
      "EPOCH 8 \t LOSS: 0.00383 \t ACCURACY: 0.94537\n",
      "EPOCH 9 \t LOSS: 0.00372 \t ACCURACY: 0.94537\n",
      "EPOCH 10 \t LOSS: 0.00364 \t ACCURACY: 0.94537\n",
      "EPOCH 11 \t LOSS: 0.00357 \t ACCURACY: 0.94537\n",
      "EPOCH 12 \t LOSS: 0.00352 \t ACCURACY: 0.94537\n",
      "EPOCH 13 \t LOSS: 0.00348 \t ACCURACY: 0.94537\n",
      "[-] TRAINING STOPPED: DIFFERENCE BETWEEN LOSSES WAS TOO LOW\n",
      "===================================================================================\n",
      "\n",
      "\n",
      "\n",
      "\n",
      "EXECUTING OPTIMIZER WITH LEARNING RATE: 1e-05\n",
      "===================================================================================\n",
      "EPOCH 1 \t LOSS: 0.01379 \t ACCURACY: 0.81076\n",
      "EPOCH 2 \t LOSS: 0.01299 \t ACCURACY: 0.89226\n",
      "EPOCH 3 \t LOSS: 0.01226 \t ACCURACY: 0.92713\n",
      "EPOCH 4 \t LOSS: 0.01161 \t ACCURACY: 0.93939\n",
      "EPOCH 5 \t LOSS: 0.01102 \t ACCURACY: 0.94360\n",
      "EPOCH 6 \t LOSS: 0.01049 \t ACCURACY: 0.94484\n",
      "EPOCH 7 \t LOSS: 0.01001 \t ACCURACY: 0.94524\n",
      "EPOCH 8 \t LOSS: 0.00957 \t ACCURACY: 0.94537\n",
      "EPOCH 9 \t LOSS: 0.00917 \t ACCURACY: 0.94537\n",
      "EPOCH 10 \t LOSS: 0.00881 \t ACCURACY: 0.94537\n",
      "EPOCH 11 \t LOSS: 0.00847 \t ACCURACY: 0.94537\n",
      "EPOCH 12 \t LOSS: 0.00817 \t ACCURACY: 0.94537\n",
      "EPOCH 13 \t LOSS: 0.00789 \t ACCURACY: 0.94537\n",
      "EPOCH 14 \t LOSS: 0.00764 \t ACCURACY: 0.94537\n",
      "EPOCH 15 \t LOSS: 0.00740 \t ACCURACY: 0.94537\n",
      "EPOCH 16 \t LOSS: 0.00719 \t ACCURACY: 0.94537\n",
      "EPOCH 17 \t LOSS: 0.00699 \t ACCURACY: 0.94537\n",
      "EPOCH 18 \t LOSS: 0.00680 \t ACCURACY: 0.94537\n",
      "EPOCH 19 \t LOSS: 0.00663 \t ACCURACY: 0.94537\n",
      "EPOCH 20 \t LOSS: 0.00647 \t ACCURACY: 0.94537\n",
      "EPOCH 21 \t LOSS: 0.00632 \t ACCURACY: 0.94537\n",
      "EPOCH 22 \t LOSS: 0.00618 \t ACCURACY: 0.94537\n",
      "EPOCH 23 \t LOSS: 0.00605 \t ACCURACY: 0.94537\n",
      "EPOCH 24 \t LOSS: 0.00593 \t ACCURACY: 0.94537\n",
      "EPOCH 25 \t LOSS: 0.00582 \t ACCURACY: 0.94537\n",
      "EPOCH 26 \t LOSS: 0.00571 \t ACCURACY: 0.94537\n",
      "EPOCH 27 \t LOSS: 0.00561 \t ACCURACY: 0.94537\n",
      "EPOCH 28 \t LOSS: 0.00552 \t ACCURACY: 0.94537\n",
      "EPOCH 29 \t LOSS: 0.00543 \t ACCURACY: 0.94537\n",
      "EPOCH 30 \t LOSS: 0.00534 \t ACCURACY: 0.94537\n",
      "EPOCH 31 \t LOSS: 0.00526 \t ACCURACY: 0.94537\n",
      "EPOCH 32 \t LOSS: 0.00519 \t ACCURACY: 0.94537\n",
      "EPOCH 33 \t LOSS: 0.00512 \t ACCURACY: 0.94537\n",
      "EPOCH 34 \t LOSS: 0.00505 \t ACCURACY: 0.94537\n",
      "EPOCH 35 \t LOSS: 0.00499 \t ACCURACY: 0.94537\n",
      "EPOCH 36 \t LOSS: 0.00493 \t ACCURACY: 0.94537\n",
      "EPOCH 37 \t LOSS: 0.00487 \t ACCURACY: 0.94537\n",
      "EPOCH 38 \t LOSS: 0.00482 \t ACCURACY: 0.94537\n",
      "EPOCH 39 \t LOSS: 0.00477 \t ACCURACY: 0.94537\n",
      "EPOCH 40 \t LOSS: 0.00472 \t ACCURACY: 0.94537\n",
      "[-] TRAINING STOPPED: DIFFERENCE BETWEEN LOSSES WAS TOO LOW\n",
      "===================================================================================\n",
      "\n",
      "\n",
      "\n",
      "\n"
     ]
    }
   ],
   "source": [
    "results = train_multiple_lr(epochs, model, dataloader_train, criterion, \"binary_nn_weights/binary_no_fe\", \"binary_nn_weights/binary_not_trained.pt\")"
   ]
  },
  {
   "cell_type": "code",
   "execution_count": 58,
   "metadata": {},
   "outputs": [],
   "source": [
    "save_results(results, \"binary_nn_results.txt\")"
   ]
  },
  {
   "cell_type": "code",
   "execution_count": 59,
   "metadata": {},
   "outputs": [],
   "source": [
    "results = resume_results(\"binary_nn_results.txt\")"
   ]
  },
  {
   "cell_type": "code",
   "execution_count": 60,
   "metadata": {},
   "outputs": [
    {
     "name": "stdout",
     "output_type": "stream",
     "text": [
      "===================================================\n",
      "PLOTTING FOR LEARNING RATE: 0.1\n"
     ]
    },
    {
     "data": {
      "image/png": "[encoded data removed]",
      "text/plain": [
       "<Figure size 640x480 with 2 Axes>"
      ]
     },
     "metadata": {},
     "output_type": "display_data"
    },
    {
     "name": "stdout",
     "output_type": "stream",
     "text": [
      "===================================================\n",
      "PLOTTING FOR LEARNING RATE: 0.01\n"
     ]
    },
    {
     "data": {
      "image/png": "[encoded data removed]",
      "text/plain": [
       "<Figure size 640x480 with 2 Axes>"
      ]
     },
     "metadata": {},
     "output_type": "display_data"
    },
    {
     "name": "stdout",
     "output_type": "stream",
     "text": [
      "===================================================\n",
      "PLOTTING FOR LEARNING RATE: 0.001\n"
     ]
    },
    {
     "data": {
      "image/png": "[encoded data removed]",
      "text/plain": [
       "<Figure size 640x480 with 2 Axes>"
      ]
     },
     "metadata": {},
     "output_type": "display_data"
    },
    {
     "name": "stdout",
     "output_type": "stream",
     "text": [
      "===================================================\n",
      "PLOTTING FOR LEARNING RATE: 0.0001\n"
     ]
    },
    {
     "data": {
      "image/png": "[encoded data removed]",
      "text/plain": [
       "<Figure size 640x480 with 2 Axes>"
      ]
     },
     "metadata": {},
     "output_type": "display_data"
    },
    {
     "name": "stdout",
     "output_type": "stream",
     "text": [
      "===================================================\n",
      "PLOTTING FOR LEARNING RATE: 1e-05\n"
     ]
    },
    {
     "data": {
      "image/png": "[encoded data removed]",
      "text/plain": [
       "<Figure size 640x480 with 2 Axes>"
      ]
     },
     "metadata": {},
     "output_type": "display_data"
    }
   ],
   "source": [
    "plot_results(results)"
   ]
  },
  {
   "cell_type": "code",
   "execution_count": 62,
   "metadata": {},
   "outputs": [
    {
     "name": "stdout",
     "output_type": "stream",
     "text": [
      "Precision: 0.947\n",
      "Precision: 0.947\n",
      "Precision: 0.947\n",
      "Precision: 0.947\n",
      "Precision: 0.947\n"
     ]
    }
   ],
   "source": [
    "precisions = eval_multiple(model, dataloader_test, \"binary_nn_weights/\")"
   ]
  },
  {
   "cell_type": "code",
   "execution_count": 63,
   "metadata": {},
   "outputs": [
    {
     "data": {
      "image/png": "[encoded data removed]",
      "text/plain": [
       "<Figure size 640x480 with 1 Axes>"
      ]
     },
     "metadata": {},
     "output_type": "display_data"
    }
   ],
   "source": [
    "show_precisions(precisions)"
   ]
  }
 ],
 "metadata": {
  "kernelspec": {
   "display_name": "Python 3",
   "language": "python",
   "name": "python3"
  },
  "language_info": {
   "codemirror_mode": {
    "name": "ipython",
    "version": 3
   },
   "file_extension": ".py",
   "mimetype": "text/x-python",
   "name": "python",
   "nbconvert_exporter": "python",
   "pygments_lexer": "ipython3",
   "version": "3.8.10"
  }
 },
 "nbformat": 4,
 "nbformat_minor": 2
}
