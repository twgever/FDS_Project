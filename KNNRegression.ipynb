{
 "cells": [
  {
   "cell_type": "code",
   "execution_count": null,
   "metadata": {},
   "outputs": [],
   "source": [
    "import pandas as pd\n",
    "import sklearn.metrics as metrics\n",
    "import matplotlib.pyplot as plt"
   ]
  },
  {
   "cell_type": "code",
   "execution_count": null,
   "metadata": {},
   "outputs": [],
   "source": [
    "X_train = pd.read_csv(\"sets/X_train.csv\")\n",
    "X_test = pd.read_csv(\"sets/X_test.csv\")\n",
    "y_train = pd.read_csv(\"sets/y_train.csv\")\n",
    "y_test = pd.read_csv(\"sets/y_test.csv\")"
   ]
  },
  {
   "cell_type": "markdown",
   "metadata": {},
   "source": [
    "### KNN Regression"
   ]
  },
  {
   "cell_type": "markdown",
   "metadata": {},
   "source": [
    "In order to find the best value for $k$, we will train and make predictions on different models with\n",
    "$$\n",
    "    k = 1, 2, \\ldots, 15.\n",
    "$$\n",
    "For each model we will then score the predictions and choose the $k$ with the best score."
   ]
  },
  {
   "cell_type": "code",
   "execution_count": null,
   "metadata": {},
   "outputs": [],
   "source": [
    "# We will use the scikit-learn implementation of the model\n",
    "from sklearn.neighbors import KNeighborsRegressor\n",
    "\n",
    "knn_models = {}\n",
    "\n",
    "# We will analize models with different 'k' values\n",
    "max_k = 15\n",
    "\n",
    "for k in range(1, max_k + 1):\n",
    "    print(f\"Training KNN model with n_neighbors = {k}\")\n",
    "    knn_models[k] = KNeighborsRegressor(n_neighbors=k)\n",
    "    knn_models[k].fit(X_train, y_train)\n"
   ]
  },
  {
   "cell_type": "markdown",
   "metadata": {},
   "source": [
    "After the training is complete we will the all the $15$ models, and score their prediction using *Mean Squared Error* (or **RMSE**) and the *R2* scores.\n",
    "\n",
    "The best model will be the one with the *lowest* **RMSE** score and the *highest* **R2** score."
   ]
  },
  {
   "cell_type": "code",
   "execution_count": null,
   "metadata": {},
   "outputs": [],
   "source": [
    "y_predictions = {}\n",
    "RMSE_knn = {}\n",
    "R2_knn = {}\n",
    "\n",
    "for k, model in knn_models.items():\n",
    "    print(f\"Making predictions for KNN model with n_neighbors = {k}\")\n",
    "    y_predictions[k] = model.predict(X_test)\n",
    "\n",
    "    # Calculate the scores for the predictions\n",
    "    RMSE_knn[k] = metrics.mean_squared_error(y_test, y_predictions[k], squared=False)\n",
    "    R2_knn[k] = metrics.r2_score(y_test, y_predictions[k])\n",
    "\n",
    "best_k = min(RMSE_knn, key=RMSE_knn.get)\n",
    "print(f\"Best value for 'k' {best_k}\")"
   ]
  },
  {
   "cell_type": "markdown",
   "metadata": {},
   "source": [
    "The best model is the one with $k = 5$.\n",
    "\n",
    "Let's plot the scores calculated in the previous step for each model, showing the corresponding $k$ value."
   ]
  },
  {
   "cell_type": "code",
   "execution_count": null,
   "metadata": {},
   "outputs": [],
   "source": [
    "figure, axis = plt.subplots(1, 2, figsize=(15, 4)) \n",
    "\n",
    "KNN_y_label = \"Number of neighbors (k)\"\n",
    "\n",
    "KNN_X = RMSE_knn.keys()\n",
    "\n",
    "axis[0].plot(KNN_X, RMSE_knn.values())\n",
    "axis[0].set_xlabel(KNN_y_label)\n",
    "axis[0].set_ylabel(\"RMSE Score\")\n",
    "\n",
    "axis[1].plot(KNN_X, R2_knn.values())\n",
    "axis[1].set_xlabel(KNN_y_label)\n",
    "axis[1].set_ylabel(\"R2 Score\")\n",
    "\n",
    "plt.show()"
   ]
  },
  {
   "cell_type": "markdown",
   "metadata": {},
   "source": [
    "We note that the point of *minimum* in the **RMSE** plot is equal to the point of *maximum* in the **R2** plot.\n",
    "This is given by the fact that the two scores are inversely proportional.\n",
    "\n",
    "The analysis was conducted with $k=1,\\ldots,15$.\n",
    "Intuitively, analysing models with $k$ larger than $15$ would be useless, since they would just keep *underfitting* the data, hence getting worse score."
   ]
  },
  {
   "cell_type": "code",
   "execution_count": null,
   "metadata": {},
   "outputs": [],
   "source": [
    "\n",
    "print(f\"RMSE: {RMSE_knn[best_k]}\")\n",
    "print(f\"R2: {R2_knn[best_k]}\")"
   ]
  }
 ],
 "metadata": {
  "kernelspec": {
   "display_name": "Python 3",
   "language": "python",
   "name": "python3"
  },
  "language_info": {
   "codemirror_mode": {
    "name": "ipython",
    "version": 3
   },
   "file_extension": ".py",
   "mimetype": "text/x-python",
   "name": "python",
   "nbconvert_exporter": "python",
   "pygments_lexer": "ipython3",
   "version": "3.11.6"
  }
 },
 "nbformat": 4,
 "nbformat_minor": 2
}
