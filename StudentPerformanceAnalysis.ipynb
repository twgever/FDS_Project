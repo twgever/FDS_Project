{
 "cells": [
  {
   "cell_type": "markdown",
   "metadata": {},
   "source": [
    "## **FDS project, winter semester 2023**"
   ]
  },
  {
   "cell_type": "markdown",
   "metadata": {},
   "source": [
    "#### Tommaso Leonardi, Arianna Paolini, Stefano Saravalle, Paolo Cursi, Pietro Signorino\n",
    "<leonardi.1914546@studenti.uniroma1.it>, <paolini.1943164@studenti.uniroma1.it>, <saravalle.1948684@studenti.uniroma1.it>, <paoloc1999@gmail.com>, <signorino.2149741@studenti.uniroma1.it>"
   ]
  },
  {
   "cell_type": "markdown",
   "metadata": {},
   "source": [
    "# **Student Performance Analysis & Prediction**"
   ]
  },
  {
   "cell_type": "code",
   "execution_count": 2,
   "metadata": {},
   "outputs": [],
   "source": [
    "#import libraries\n",
    "import pandas as pd"
   ]
  },
  {
   "cell_type": "markdown",
   "metadata": {},
   "source": [
    "### **Data Preprocessing**"
   ]
  },
  {
   "cell_type": "code",
   "execution_count": 3,
   "metadata": {},
   "outputs": [],
   "source": [
    "#loading the dataset tables\n",
    "courses = pd.read_csv('./data/courses.csv')  #22 rows for courses (modules) and their presentations\n",
    "assess = pd.read_csv('./data/assessments.csv')  #206 rows of assessments for module-presentations (including the final exam)\n",
    "results = pd.read_csv('./data/studentAssessment.csv') #173,912 rows for the scores obtained by students in the asssesments\n",
    "studs = pd.read_csv('./data/studentInfo.csv') #32,593 rows for demographic information on students and their results in module-presentations\n",
    "registr = pd.read_csv('./data/studentRegistration.csv') #32,593 rows for student registration/unregistration on module-presentations\n",
    "vle = pd.read_csv('./data/studentVle.csv') #10,655,280 rows for daily student interactions with online resources for a module-presentation\n",
    "materials = pd.read_csv('./data/vle.csv') #6,364 rows for the materials available on the Virtual Learning Environment"
   ]
  },
  {
   "cell_type": "markdown",
   "metadata": {},
   "source": [
    "The _Open University Learning Analytics dataset_ that we are considering has the following structure: \n",
    "\n",
    " <img src=\"https://analyse.kmi.open.ac.uk/resources/images/model.png\" alt=\"dataset structure\" style=\"height: 500px; width:500px;\"/>\n",
    "\n",
    "\n",
    "(https://analyse.kmi.open.ac.uk/open_dataset)\n",
    "\n"
   ]
  },
  {
   "cell_type": "code",
   "execution_count": null,
   "metadata": {},
   "outputs": [],
   "source": [
    "#TODO: definire i task\n",
    "#TODO: costruire training e test set con join delle tabelle di interesse\n",
    "#TODO: normalizzare/pulire i dati\n",
    "#TODO: fare feature engineering\n",
    "#TODO: mostrare la distribuzione dei dati con grafici\n",
    "#TODO: fare split tra training e test set (considerare cross validation)\n"
    "#TODO: mostrare la distribuzione dei dati con grafici\n"
    "#TODO: fare split training e test set"
   ]
  }
 ],
 "metadata": {
  "kernelspec": {
   "display_name": "Python 3",
   "language": "python",
   "name": "python3"
  },
  "language_info": {
   "codemirror_mode": {
    "name": "ipython",
    "version": 3
   },
   "file_extension": ".py",
   "mimetype": "text/x-python",
   "name": "python",
   "nbconvert_exporter": "python",
   "pygments_lexer": "ipython3",
   "version": "3.10.11"
  }
 },
 "nbformat": 4,
 "nbformat_minor": 2
}
